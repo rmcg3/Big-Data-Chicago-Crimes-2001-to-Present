{
 "cells": [
  {
   "cell_type": "markdown",
   "metadata": {},
   "source": [
    "# Project 1"
   ]
  },
  {
   "cell_type": "markdown",
   "metadata": {},
   "source": [
    "# Crimes in Chicago, IL from 2001 to present:\n",
    "ID - Unique identifier for the record\n",
    "Case Number - The Chicago Police Department RD Number (Records Division Number), which is unique to the incident.\n",
    "Date - Date when the incident occurred. this is sometimes a best estimate.\n",
    "Block - The partially redacted address where the incident occurred, placing it on the same block as the actual address.\n",
    "IUCR - The Illinois Unifrom Crime Reporting code. This is directly linked to the Primary Type and Description.\n",
    "Primary Type - The primary description of the IUCR code.\n",
    "Description - The secondary description of the IUCR code, a subcategory of the primary description.\n",
    "Location Description - Description of the location where the incident occurred.\n",
    "Arrest - Indicates whether an arrest was made.\n",
    "Domestic - Indicates whether the incident was domestic-related as defined by the Illinois Domestic Violence Act.\n",
    "Beat - Indicates the beat where the incident occurred. A beat is the smallest police geographic area – each beat has a dedicated police beat car.\n",
    "District - Indicates the police district where the incident occurred.\n",
    "Ward - The ward (City Council district) where the incident occurred.\n",
    "Community Area - Indicates the community area where the incident occurred. Chicago has 77 community areas\n",
    "FBI Code - Indicates the crime classification as outlined in the FBI's National Incident-Based Reporting System (NIBRS).\n",
    "X Coordinate - The x coordinate of the location where the incident occurred in State Plane Illinois East NAD 1983 projection.\n",
    "Y Coordinate - The y coordinate of the location where the incident occurred in State Plane Illinois East NAD 1983 projection.\n",
    "Year - Year the incident occurred.\n",
    "Updated On - Date and time the record was last updated.\n",
    "Latitude - The latitude of the location where the incident occurred.\n",
    "Longitude - The longitude of the location where the incident occurred.\n",
    "Location - The location where the incident occurred in a format that allows for creation of maps and other geographic operations on this data portal. "
   ]
  },
  {
   "cell_type": "code",
   "execution_count": 1,
   "metadata": {
    "scrolled": false
   },
   "outputs": [],
   "source": [
    "import sys\n",
    "import os\n",
    "\n",
    "sys.path.insert(0, '/usr/hdp/current/spark2-client/python')\n",
    "sys.path.insert(0, '/usr/hdp/current/spark2-client/python/lib/py4j-0.10.7-src.zip')\n",
    "\n",
    "os.environ['SPARK_HOME'] = '/usr/hdp/current/spark2-client/'\n",
    "os.environ['SPARK_CONF_DIR'] = '/etc/spark2/conf'\n",
    "\n",
    "import pyspark\n",
    "conf = pyspark.SparkConf()\n",
    "conf.setMaster(\"yarn\")\n",
    "conf.set(\"spark.driver.memory\",\"2g\")\n",
    "conf.set(\"spark.executor.instances\",\"5\")\n",
    "conf.set(\"spark.executor.memory\",\"15g\")\n",
    "conf.set(\"spark.executor.cores\",\"8\")\n",
    "\n",
    "sc = pyspark.SparkContext(conf=conf)"
   ]
  },
  {
   "cell_type": "code",
   "execution_count": 2,
   "metadata": {},
   "outputs": [
    {
     "data": {
      "text/html": [
       "\n",
       "        <div>\n",
       "            <p><b>SparkContext</b></p>\n",
       "\n",
       "            <p><a href=\"http://clnode225.clemson.cloudlab.us:4044\">Spark UI</a></p>\n",
       "\n",
       "            <dl>\n",
       "              <dt>Version</dt>\n",
       "                <dd><code>v2.3.1.3.0.1.0-187</code></dd>\n",
       "              <dt>Master</dt>\n",
       "                <dd><code>yarn</code></dd>\n",
       "              <dt>AppName</dt>\n",
       "                <dd><code>pyspark-shell</code></dd>\n",
       "            </dl>\n",
       "        </div>\n",
       "        "
      ],
      "text/plain": [
       "<SparkContext master=yarn appName=pyspark-shell>"
      ]
     },
     "execution_count": 2,
     "metadata": {},
     "output_type": "execute_result"
    }
   ],
   "source": [
    "sc"
   ]
  },
  {
   "cell_type": "markdown",
   "metadata": {},
   "source": [
    "# Import data and extract header"
   ]
  },
  {
   "cell_type": "code",
   "execution_count": 3,
   "metadata": {},
   "outputs": [],
   "source": [
    "crimes = sc.textFile(\"Crimes_-_2001_to_present2.txt\")"
   ]
  },
  {
   "cell_type": "code",
   "execution_count": 4,
   "metadata": {},
   "outputs": [
    {
     "name": "stdout",
     "output_type": "stream",
     "text": [
      "ID,Case Number,Date,Block,IUCR,Primary Type,Description,Location Description,Arrest,Domestic,Beat,District,Ward,Community Area,FBI Code,X Coordinate,Y Coordinate,Year,Updated On,Latitude,Longitude,Location\n"
     ]
    }
   ],
   "source": [
    "crimesHeader = crimes.first() #extract header\n",
    "print(crimesHeader)"
   ]
  },
  {
   "cell_type": "code",
   "execution_count": 5,
   "metadata": {},
   "outputs": [],
   "source": [
    "crimesOnly = crimes.filter(lambda x: x != crimesHeader)"
   ]
  },
  {
   "cell_type": "code",
   "execution_count": 6,
   "metadata": {},
   "outputs": [
    {
     "data": {
      "text/plain": [
       "['11034701,JA366925,01/01/2001 11:00:00 AM,016XX E 86TH PL,1153,DECEPTIVE PRACTICE,FINANCIAL IDENTITY THEFT OVER $ 300,RESIDENCE,false,false,0412,004,8,45,11,,,2001,08/05/2017 03:50:08 PM,,,',\n",
       " '11227287,JB147188,10/08/2017 03:00:00 AM,092XX S RACINE AVE,0281,CRIM SEXUAL ASSAULT,NON-AGGRAVATED,RESIDENCE,false,false,2222,022,21,73,02,,,2017,02/11/2018 03:57:41 PM,,,',\n",
       " '11227583,JB147595,03/28/2017 02:00:00 PM,026XX W 79TH ST,0620,BURGLARY,UNLAWFUL ENTRY,OTHER,false,false,0835,008,18,70,05,,,2017,02/11/2018 03:57:41 PM,,,']"
      ]
     },
     "execution_count": 6,
     "metadata": {},
     "output_type": "execute_result"
    }
   ],
   "source": [
    "crimesOnly.take(3)"
   ]
  },
  {
   "cell_type": "markdown",
   "metadata": {},
   "source": [
    "# Map data, excluding X Coordinate, Y Coordinate, Longitude, and Latitude"
   ]
  },
  {
   "cell_type": "code",
   "execution_count": 7,
   "metadata": {
    "scrolled": true
   },
   "outputs": [
    {
     "data": {
      "text/plain": [
       "[('11034701',\n",
       "  'JA366925',\n",
       "  '01/01/2001 11:00:00 AM',\n",
       "  '016XX E 86TH PL',\n",
       "  '1153',\n",
       "  'DECEPTIVE PRACTICE',\n",
       "  'FINANCIAL IDENTITY THEFT OVER $ 300',\n",
       "  'RESIDENCE',\n",
       "  'false',\n",
       "  'false',\n",
       "  '0412',\n",
       "  '004',\n",
       "  '8',\n",
       "  '45',\n",
       "  '11',\n",
       "  '2001',\n",
       "  '08/05/2017 03:50:08 PM',\n",
       "  ''),\n",
       " ('11227287',\n",
       "  'JB147188',\n",
       "  '10/08/2017 03:00:00 AM',\n",
       "  '092XX S RACINE AVE',\n",
       "  '0281',\n",
       "  'CRIM SEXUAL ASSAULT',\n",
       "  'NON-AGGRAVATED',\n",
       "  'RESIDENCE',\n",
       "  'false',\n",
       "  'false',\n",
       "  '2222',\n",
       "  '022',\n",
       "  '21',\n",
       "  '73',\n",
       "  '02',\n",
       "  '2017',\n",
       "  '02/11/2018 03:57:41 PM',\n",
       "  ''),\n",
       " ('11227583',\n",
       "  'JB147595',\n",
       "  '03/28/2017 02:00:00 PM',\n",
       "  '026XX W 79TH ST',\n",
       "  '0620',\n",
       "  'BURGLARY',\n",
       "  'UNLAWFUL ENTRY',\n",
       "  'OTHER',\n",
       "  'false',\n",
       "  'false',\n",
       "  '0835',\n",
       "  '008',\n",
       "  '18',\n",
       "  '70',\n",
       "  '05',\n",
       "  '2017',\n",
       "  '02/11/2018 03:57:41 PM',\n",
       "  '')]"
      ]
     },
     "execution_count": 7,
     "metadata": {},
     "output_type": "execute_result"
    }
   ],
   "source": [
    "crimesMapped = crimesOnly.map(lambda line: (line.split(\",\")[0],line.split(\",\")[1], line.split(\",\")[2], line.split(\",\")[3], line.split(\",\")[4], line.split(\",\")[5], line.split(\",\")[6], line.split(\",\")[7], line.split(\",\")[8], line.split(\",\")[9], line.split(\",\")[10], line.split(\",\")[11], line.split(\",\")[12], line.split(\",\")[13], line.split(\",\")[14],line.split(\",\")[17], line.split(\",\")[18], line.split(\",\")[21]))\n",
    "\n",
    "crimesMapped.take(3)"
   ]
  },
  {
   "cell_type": "markdown",
   "metadata": {},
   "source": [
    "# Extract districts from data"
   ]
  },
  {
   "cell_type": "code",
   "execution_count": 8,
   "metadata": {},
   "outputs": [],
   "source": [
    "districts = crimesMapped.map(lambda x: x[11])"
   ]
  },
  {
   "cell_type": "code",
   "execution_count": 9,
   "metadata": {},
   "outputs": [
    {
     "data": {
      "text/plain": [
       "['004', '022', '008', '003', '001']"
      ]
     },
     "execution_count": 9,
     "metadata": {},
     "output_type": "execute_result"
    }
   ],
   "source": [
    "def distCheck(x):\n",
    "    if(len(x) == 3):\n",
    "        return x\n",
    "    else:\n",
    "        return \"000\"\n",
    "\n",
    "\n",
    "districts = districts.map(distCheck)\n",
    "districts.take(5)"
   ]
  },
  {
   "cell_type": "code",
   "execution_count": 10,
   "metadata": {
    "scrolled": false
   },
   "outputs": [],
   "source": [
    "districtsCollection = districts.countByValue()"
   ]
  },
  {
   "cell_type": "markdown",
   "metadata": {},
   "source": [
    "# 1. Districts 7, 8, and 11 have most reported crimes"
   ]
  },
  {
   "cell_type": "code",
   "execution_count": 11,
   "metadata": {},
   "outputs": [
    {
     "data": {
      "text/plain": [
       "[('000', 234546),\n",
       " ('001', 272390),\n",
       " ('002', 320063),\n",
       " ('003', 345623),\n",
       " ('004', 378288),\n",
       " ('005', 297620),\n",
       " ('006', 393687),\n",
       " ('007', 400956),\n",
       " ('008', 458143),\n",
       " ('009', 338534),\n",
       " ('010', 291235),\n",
       " ('011', 438337),\n",
       " ('012', 328354),\n",
       " ('014', 270459),\n",
       " ('015', 297254),\n",
       " ('016', 223876),\n",
       " ('017', 195367),\n",
       " ('018', 307761),\n",
       " ('019', 307257),\n",
       " ('020', 117318),\n",
       " ('021', 4),\n",
       " ('022', 216158),\n",
       " ('024', 205983),\n",
       " ('025', 391726),\n",
       " ('031', 196)]"
      ]
     },
     "execution_count": 11,
     "metadata": {},
     "output_type": "execute_result"
    }
   ],
   "source": [
    "sorted(districtsCollection.items())\n"
   ]
  },
  {
   "cell_type": "markdown",
   "metadata": {},
   "source": [
    "# Extract Primary Type "
   ]
  },
  {
   "cell_type": "code",
   "execution_count": 12,
   "metadata": {},
   "outputs": [
    {
     "data": {
      "text/plain": [
       "['DECEPTIVE PRACTICE',\n",
       " 'CRIM SEXUAL ASSAULT',\n",
       " 'BURGLARY',\n",
       " 'THEFT',\n",
       " 'CRIM SEXUAL ASSAULT']"
      ]
     },
     "execution_count": 12,
     "metadata": {},
     "output_type": "execute_result"
    }
   ],
   "source": [
    "primaryType = crimesMapped.map(lambda x : x[5])\n",
    "primaryType.take(5)"
   ]
  },
  {
   "cell_type": "markdown",
   "metadata": {},
   "source": [
    "# Zip Primary Type with Districts"
   ]
  },
  {
   "cell_type": "code",
   "execution_count": 13,
   "metadata": {},
   "outputs": [
    {
     "data": {
      "text/plain": [
       "[('004', 'DECEPTIVE PRACTICE'),\n",
       " ('022', 'CRIM SEXUAL ASSAULT'),\n",
       " ('008', 'BURGLARY'),\n",
       " ('003', 'THEFT'),\n",
       " ('001', 'CRIM SEXUAL ASSAULT')]"
      ]
     },
     "execution_count": 13,
     "metadata": {},
     "output_type": "execute_result"
    }
   ],
   "source": [
    "districts.zip(primaryType).take(5)"
   ]
  },
  {
   "cell_type": "markdown",
   "metadata": {},
   "source": [
    "# 2. Number of each type of crime per district"
   ]
  },
  {
   "cell_type": "code",
   "execution_count": 14,
   "metadata": {},
   "outputs": [
    {
     "data": {
      "text/plain": [
       "[(('000', 'ARSON'), 258),\n",
       " (('000', 'ASSAULT'), 31599),\n",
       " (('000', 'BATTERY'), 66276),\n",
       " (('000', 'BURGLARY'), 3178),\n",
       " (('000', 'CONCEALED CARRY LICENSE VIOLATION'), 4),\n",
       " (('000', 'CRIM SEXUAL ASSAULT'), 490),\n",
       " (('000', 'CRIMINAL DAMAGE'), 13685),\n",
       " (('000', 'CRIMINAL TRESPASS'), 7840),\n",
       " (('000', 'DECEPTIVE PRACTICE'), 7032),\n",
       " (('000', 'GAMBLING'), 232),\n",
       " (('000', 'HUMAN TRAFFICKING'), 1),\n",
       " (('000', 'INTERFERENCE WITH PUBLIC OFFICER'), 110),\n",
       " (('000', 'INTIMIDATION'), 242),\n",
       " (('000', 'KIDNAPPING'), 218),\n",
       " (('000', 'LIQUOR LAW VIOLATION'), 420),\n",
       " (('000', 'MOTOR VEHICLE THEFT'), 34948),\n",
       " (('000', 'NARCOTICS'), 12340),\n",
       " (('000', 'OBSCENITY'), 72),\n",
       " (('000', 'OFFENSE INVOLVING CHILDREN'), 1438),\n",
       " (('000', 'OTHER NARCOTIC VIOLATION'), 17),\n",
       " (('000', 'OTHER OFFENSE'), 4390),\n",
       " (('000', 'PROSTITUTION'), 16),\n",
       " (('000', 'PUBLIC INDECENCY'), 7),\n",
       " (('000', 'PUBLIC PEACE VIOLATION'), 5509),\n",
       " (('000', 'RITUALISM'), 3),\n",
       " (('000', 'ROBBERY'), 1759),\n",
       " (('000', 'SEX OFFENSE'), 1691),\n",
       " (('000', 'STALKING'), 98),\n",
       " (('000', 'THEFT'), 35211),\n",
       " (('000', 'WEAPONS VIOLATION'), 5462),\n",
       " (('001', 'ARSON'), 83),\n",
       " (('001', 'ASSAULT'), 11790),\n",
       " (('001', 'BATTERY'), 26829),\n",
       " (('001', 'BURGLARY'), 4503),\n",
       " (('001', 'CONCEALED CARRY LICENSE VIOLATION'), 11),\n",
       " (('001', 'CRIM SEXUAL ASSAULT'), 681),\n",
       " (('001', 'CRIMINAL DAMAGE'), 14843),\n",
       " (('001', 'CRIMINAL TRESPASS'), 20447),\n",
       " (('001', 'DECEPTIVE PRACTICE'), 26688),\n",
       " (('001', 'GAMBLING'), 92),\n",
       " (('001', 'HOMICIDE'), 98),\n",
       " (('001', 'HUMAN TRAFFICKING'), 5),\n",
       " (('001', 'INTERFERENCE WITH PUBLIC OFFICER'), 338),\n",
       " (('001', 'INTIMIDATION'), 205),\n",
       " (('001', 'KIDNAPPING'), 91),\n",
       " (('001', 'LIQUOR LAW VIOLATION'), 383),\n",
       " (('001', 'MOTOR VEHICLE THEFT'), 5239),\n",
       " (('001', 'NARCOTICS'), 12717),\n",
       " (('001', 'NON - CRIMINAL'), 1),\n",
       " (('001', 'NON-CRIMINAL'), 15),\n",
       " (('001', 'OBSCENITY'), 22),\n",
       " (('001', 'OFFENSE INVOLVING CHILDREN'), 537),\n",
       " (('001', 'OTHER NARCOTIC VIOLATION'), 15),\n",
       " (('001', 'OTHER OFFENSE'), 13211),\n",
       " (('001', 'PROSTITUTION'), 687),\n",
       " (('001', 'PUBLIC INDECENCY'), 21),\n",
       " (('001', 'PUBLIC PEACE VIOLATION'), 1885),\n",
       " (('001', 'ROBBERY'), 7073),\n",
       " (('001', 'SEX OFFENSE'), 885),\n",
       " (('001', 'STALKING'), 185),\n",
       " (('001', 'THEFT'), 122118),\n",
       " (('001', 'WEAPONS VIOLATION'), 692),\n",
       " (('002', 'ARSON'), 272),\n",
       " (('002', 'ASSAULT'), 21042),\n",
       " (('002', 'BATTERY'), 63225),\n",
       " (('002', 'BURGLARY'), 16382),\n",
       " (('002', 'CONCEALED CARRY LICENSE VIOLATION'), 3),\n",
       " (('002', 'CRIM SEXUAL ASSAULT'), 1455),\n",
       " (('002', 'CRIMINAL DAMAGE'), 32898),\n",
       " (('002', 'CRIMINAL TRESPASS'), 13102),\n",
       " (('002', 'DECEPTIVE PRACTICE'), 11506),\n",
       " (('002', 'GAMBLING'), 795),\n",
       " (('002', 'HOMICIDE'), 449),\n",
       " (('002', 'HUMAN TRAFFICKING'), 5),\n",
       " (('002', 'INTERFERENCE WITH PUBLIC OFFICER'), 557),\n",
       " (('002', 'INTIMIDATION'), 164),\n",
       " (('002', 'KIDNAPPING'), 256),\n",
       " (('002', 'LIQUOR LAW VIOLATION'), 272),\n",
       " (('002', 'MOTOR VEHICLE THEFT'), 14600),\n",
       " (('002', 'NARCOTICS'), 33924),\n",
       " (('002', 'NON - CRIMINAL'), 2),\n",
       " (('002', 'NON-CRIMINAL'), 5),\n",
       " (('002', 'NON-CRIMINAL (SUBJECT SPECIFIED)'), 1),\n",
       " (('002', 'OBSCENITY'), 35),\n",
       " (('002', 'OFFENSE INVOLVING CHILDREN'), 2024),\n",
       " (('002', 'OTHER OFFENSE'), 20265),\n",
       " (('002', 'PROSTITUTION'), 3916),\n",
       " (('002', 'PUBLIC INDECENCY'), 8),\n",
       " (('002', 'PUBLIC PEACE VIOLATION'), 1183),\n",
       " (('002', 'RITUALISM'), 1),\n",
       " (('002', 'ROBBERY'), 14816),\n",
       " (('002', 'SEX OFFENSE'), 992),\n",
       " (('002', 'STALKING'), 156),\n",
       " (('002', 'THEFT'), 62949),\n",
       " (('002', 'WEAPONS VIOLATION'), 2803),\n",
       " (('003', 'ARSON'), 459),\n",
       " (('003', 'ASSAULT'), 24687),\n",
       " (('003', 'BATTERY'), 75948),\n",
       " (('003', 'BURGLARY'), 23670),\n",
       " (('003', 'CONCEALED CARRY LICENSE VIOLATION'), 16),\n",
       " (('003', 'CRIM SEXUAL ASSAULT'), 1717),\n",
       " (('003', 'CRIMINAL DAMAGE'), 40563),\n",
       " (('003', 'CRIMINAL TRESPASS'), 12872),\n",
       " (('003', 'DECEPTIVE PRACTICE'), 10045),\n",
       " (('003', 'GAMBLING'), 1052),\n",
       " (('003', 'HOMICIDE'), 645),\n",
       " (('003', 'HUMAN TRAFFICKING'), 4),\n",
       " (('003', 'INTERFERENCE WITH PUBLIC OFFICER'), 969),\n",
       " (('003', 'INTIMIDATION'), 207),\n",
       " (('003', 'KIDNAPPING'), 359),\n",
       " (('003', 'LIQUOR LAW VIOLATION'), 284),\n",
       " (('003', 'MOTOR VEHICLE THEFT'), 12588),\n",
       " (('003', 'NARCOTICS'), 33919),\n",
       " (('003', 'NON - CRIMINAL'), 1),\n",
       " (('003', 'NON-CRIMINAL'), 4),\n",
       " (('003', 'OBSCENITY'), 22),\n",
       " (('003', 'OFFENSE INVOLVING CHILDREN'), 2918),\n",
       " (('003', 'OTHER NARCOTIC VIOLATION'), 1),\n",
       " (('003', 'OTHER OFFENSE'), 25621),\n",
       " (('003', 'PROSTITUTION'), 1497),\n",
       " (('003', 'PUBLIC INDECENCY'), 5),\n",
       " (('003', 'PUBLIC PEACE VIOLATION'), 2032),\n",
       " (('003', 'RITUALISM'), 1),\n",
       " (('003', 'ROBBERY'), 16648),\n",
       " (('003', 'SEX OFFENSE'), 1092),\n",
       " (('003', 'STALKING'), 196),\n",
       " (('003', 'THEFT'), 51408),\n",
       " (('003', 'WEAPONS VIOLATION'), 4173),\n",
       " (('004', 'ARSON'), 680),\n",
       " (('004', 'ASSAULT'), 28799),\n",
       " (('004', 'BATTERY'), 76585),\n",
       " (('004', 'BURGLARY'), 26553),\n",
       " (('004', 'CONCEALED CARRY LICENSE VIOLATION'), 20),\n",
       " (('004', 'CRIM SEXUAL ASSAULT'), 1809),\n",
       " (('004', 'CRIMINAL DAMAGE'), 51134),\n",
       " (('004', 'CRIMINAL TRESPASS'), 8556),\n",
       " (('004', 'DECEPTIVE PRACTICE'), 12075),\n",
       " (('004', 'DOMESTIC VIOLENCE'), 1),\n",
       " (('004', 'GAMBLING'), 584),\n",
       " (('004', 'HOMICIDE'), 686),\n",
       " (('004', 'HUMAN TRAFFICKING'), 5),\n",
       " (('004', 'INTERFERENCE WITH PUBLIC OFFICER'), 995),\n",
       " (('004', 'INTIMIDATION'), 273),\n",
       " (('004', 'KIDNAPPING'), 548),\n",
       " (('004', 'LIQUOR LAW VIOLATION'), 588),\n",
       " (('004', 'MOTOR VEHICLE THEFT'), 14822),\n",
       " (('004', 'NARCOTICS'), 33090),\n",
       " (('004', 'NON - CRIMINAL'), 1),\n",
       " (('004', 'NON-CRIMINAL'), 3),\n",
       " (('004', 'OBSCENITY'), 25),\n",
       " (('004', 'OFFENSE INVOLVING CHILDREN'), 3922),\n",
       " (('004', 'OTHER NARCOTIC VIOLATION'), 3),\n",
       " (('004', 'OTHER OFFENSE'), 28195),\n",
       " (('004', 'PROSTITUTION'), 1639),\n",
       " (('004', 'PUBLIC INDECENCY'), 4),\n",
       " (('004', 'PUBLIC PEACE VIOLATION'), 2306),\n",
       " (('004', 'RITUALISM'), 3),\n",
       " (('004', 'ROBBERY'), 15231),\n",
       " (('004', 'SEX OFFENSE'), 1168),\n",
       " (('004', 'STALKING'), 242),\n",
       " (('004', 'THEFT'), 62342),\n",
       " (('004', 'WEAPONS VIOLATION'), 5401),\n",
       " (('005', 'ARSON'), 627),\n",
       " (('005', 'ASSAULT'), 23865),\n",
       " (('005', 'BATTERY'), 66875),\n",
       " (('005', 'BURGLARY'), 18936),\n",
       " (('005', 'CONCEALED CARRY LICENSE VIOLATION'), 26),\n",
       " (('005', 'CRIM SEXUAL ASSAULT'), 1501),\n",
       " (('005', 'CRIMINAL DAMAGE'), 38435),\n",
       " (('005', 'CRIMINAL TRESPASS'), 6913),\n",
       " (('005', 'DECEPTIVE PRACTICE'), 7508),\n",
       " (('005', 'GAMBLING'), 589),\n",
       " (('005', 'HOMICIDE'), 649),\n",
       " (('005', 'HUMAN TRAFFICKING'), 2),\n",
       " (('005', 'INTERFERENCE WITH PUBLIC OFFICER'), 1100),\n",
       " (('005', 'INTIMIDATION'), 235),\n",
       " (('005', 'KIDNAPPING'), 397),\n",
       " (('005', 'LIQUOR LAW VIOLATION'), 228),\n",
       " (('005', 'MOTOR VEHICLE THEFT'), 10950),\n",
       " (('005', 'NARCOTICS'), 31227),\n",
       " (('005', 'NON - CRIMINAL'), 3),\n",
       " (('005', 'NON-CRIMINAL'), 3),\n",
       " (('005', 'NON-CRIMINAL (SUBJECT SPECIFIED)'), 1),\n",
       " (('005', 'OBSCENITY'), 17),\n",
       " (('005', 'OFFENSE INVOLVING CHILDREN'), 2771),\n",
       " (('005', 'OTHER NARCOTIC VIOLATION'), 1),\n",
       " (('005', 'OTHER OFFENSE'), 21015),\n",
       " (('005', 'PROSTITUTION'), 2753),\n",
       " (('005', 'PUBLIC INDECENCY'), 5),\n",
       " (('005', 'PUBLIC PEACE VIOLATION'), 1584),\n",
       " (('005', 'RITUALISM'), 2),\n",
       " (('005', 'ROBBERY'), 11502),\n",
       " (('005', 'SEX OFFENSE'), 944),\n",
       " (('005', 'STALKING'), 170),\n",
       " (('005', 'THEFT'), 41522),\n",
       " (('005', 'WEAPONS VIOLATION'), 5264),\n",
       " (('006', 'ARSON'), 542),\n",
       " (('006', 'ASSAULT'), 27400),\n",
       " (('006', 'BATTERY'), 79832),\n",
       " (('006', 'BURGLARY'), 24972),\n",
       " (('006', 'CONCEALED CARRY LICENSE VIOLATION'), 45),\n",
       " (('006', 'CRIM SEXUAL ASSAULT'), 1838),\n",
       " (('006', 'CRIMINAL DAMAGE'), 43347),\n",
       " (('006', 'CRIMINAL TRESPASS'), 10793),\n",
       " (('006', 'DECEPTIVE PRACTICE'), 15294),\n",
       " (('006', 'GAMBLING'), 852),\n",
       " (('006', 'HOMICIDE'), 753),\n",
       " (('006', 'HUMAN TRAFFICKING'), 7),\n",
       " (('006', 'INTERFERENCE WITH PUBLIC OFFICER'), 1208),\n",
       " (('006', 'INTIMIDATION'), 208),\n",
       " (('006', 'KIDNAPPING'), 451),\n",
       " (('006', 'LIQUOR LAW VIOLATION'), 392),\n",
       " (('006', 'MOTOR VEHICLE THEFT'), 16614),\n",
       " (('006', 'NARCOTICS'), 38583),\n",
       " (('006', 'NON-CRIMINAL'), 4),\n",
       " (('006', 'OBSCENITY'), 17),\n",
       " (('006', 'OFFENSE INVOLVING CHILDREN'), 3238),\n",
       " (('006', 'OTHER NARCOTIC VIOLATION'), 3),\n",
       " (('006', 'OTHER OFFENSE'), 26128),\n",
       " (('006', 'PROSTITUTION'), 1702),\n",
       " (('006', 'PUBLIC INDECENCY'), 9),\n",
       " (('006', 'PUBLIC PEACE VIOLATION'), 2050),\n",
       " (('006', 'RITUALISM'), 2),\n",
       " (('006', 'ROBBERY'), 20346),\n",
       " (('006', 'SEX OFFENSE'), 1141),\n",
       " (('006', 'STALKING'), 287),\n",
       " (('006', 'THEFT'), 70052),\n",
       " (('006', 'WEAPONS VIOLATION'), 5577),\n",
       " (('007', 'ARSON'), 875),\n",
       " (('007', 'ASSAULT'), 29957),\n",
       " (('007', 'BATTERY'), 97645),\n",
       " (('007', 'BURGLARY'), 24495),\n",
       " (('007', 'CONCEALED CARRY LICENSE VIOLATION'), 61),\n",
       " (('007', 'CRIM SEXUAL ASSAULT'), 2053),\n",
       " (('007', 'CRIMINAL DAMAGE'), 45227),\n",
       " (('007', 'CRIMINAL TRESPASS'), 8507),\n",
       " (('007', 'DECEPTIVE PRACTICE'), 8585),\n",
       " (('007', 'GAMBLING'), 1574),\n",
       " (('007', 'HOMICIDE'), 920),\n",
       " (('007', 'HUMAN TRAFFICKING'), 6),\n",
       " (('007', 'INTERFERENCE WITH PUBLIC OFFICER'), 1480),\n",
       " (('007', 'INTIMIDATION'), 174),\n",
       " (('007', 'KIDNAPPING'), 370),\n",
       " (('007', 'LIQUOR LAW VIOLATION'), 388),\n",
       " (('007', 'MOTOR VEHICLE THEFT'), 16257),\n",
       " (('007', 'NARCOTICS'), 49948),\n",
       " (('007', 'NON-CRIMINAL'), 3),\n",
       " (('007', 'OBSCENITY'), 20),\n",
       " (('007', 'OFFENSE INVOLVING CHILDREN'), 2799),\n",
       " (('007', 'OTHER OFFENSE'), 23015),\n",
       " (('007', 'PROSTITUTION'), 4414),\n",
       " (('007', 'PUBLIC INDECENCY'), 4),\n",
       " (('007', 'PUBLIC PEACE VIOLATION'), 2477),\n",
       " (('007', 'RITUALISM'), 2),\n",
       " (('007', 'ROBBERY'), 17486),\n",
       " (('007', 'SEX OFFENSE'), 1250),\n",
       " (('007', 'STALKING'), 151),\n",
       " (('007', 'THEFT'), 53251),\n",
       " (('007', 'WEAPONS VIOLATION'), 7562),\n",
       " (('008', 'ARSON'), 1050),\n",
       " (('008', 'ASSAULT'), 26992),\n",
       " (('008', 'BATTERY'), 74531),\n",
       " (('008', 'BURGLARY'), 35982),\n",
       " (('008', 'CONCEALED CARRY LICENSE VIOLATION'), 77),\n",
       " (('008', 'CRIM SEXUAL ASSAULT'), 1820),\n",
       " (('008', 'CRIMINAL DAMAGE'), 69520),\n",
       " (('008', 'CRIMINAL TRESPASS'), 8844),\n",
       " (('008', 'DECEPTIVE PRACTICE'), 17094),\n",
       " (('008', 'GAMBLING'), 707),\n",
       " (('008', 'HOMICIDE'), 631),\n",
       " (('008', 'INTERFERENCE WITH PUBLIC OFFICER'), 846),\n",
       " (('008', 'INTIMIDATION'), 228),\n",
       " (('008', 'KIDNAPPING'), 564),\n",
       " (('008', 'LIQUOR LAW VIOLATION'), 777),\n",
       " (('008', 'MOTOR VEHICLE THEFT'), 24868),\n",
       " (('008', 'NARCOTICS'), 33508),\n",
       " (('008', 'NON - CRIMINAL'), 10),\n",
       " (('008', 'NON-CRIMINAL'), 14),\n",
       " (('008', 'NON-CRIMINAL (SUBJECT SPECIFIED)'), 1),\n",
       " (('008', 'OBSCENITY'), 68),\n",
       " (('008', 'OFFENSE INVOLVING CHILDREN'), 3846),\n",
       " (('008', 'OTHER NARCOTIC VIOLATION'), 2),\n",
       " (('008', 'OTHER OFFENSE'), 31223),\n",
       " (('008', 'PROSTITUTION'), 4805),\n",
       " (('008', 'PUBLIC INDECENCY'), 10),\n",
       " (('008', 'PUBLIC PEACE VIOLATION'), 3734),\n",
       " (('008', 'ROBBERY'), 18463),\n",
       " (('008', 'SEX OFFENSE'), 1954),\n",
       " (('008', 'STALKING'), 230),\n",
       " (('008', 'THEFT'), 91241),\n",
       " (('008', 'WEAPONS VIOLATION'), 4503),\n",
       " (('009', 'ARSON'), 916),\n",
       " (('009', 'ASSAULT'), 21376),\n",
       " (('009', 'BATTERY'), 62975),\n",
       " (('009', 'BURGLARY'), 22144),\n",
       " (('009', 'CONCEALED CARRY LICENSE VIOLATION'), 13),\n",
       " (('009', 'CRIM SEXUAL ASSAULT'), 1354),\n",
       " (('009', 'CRIMINAL DAMAGE'), 45229),\n",
       " (('009', 'CRIMINAL TRESPASS'), 7763),\n",
       " (('009', 'DECEPTIVE PRACTICE'), 10690),\n",
       " (('009', 'GAMBLING'), 637),\n",
       " (('009', 'HOMICIDE'), 656),\n",
       " (('009', 'HUMAN TRAFFICKING'), 2),\n",
       " (('009', 'INTERFERENCE WITH PUBLIC OFFICER'), 884),\n",
       " (('009', 'INTIMIDATION'), 246),\n",
       " (('009', 'KIDNAPPING'), 321),\n",
       " (('009', 'LIQUOR LAW VIOLATION'), 927),\n",
       " (('009', 'MOTOR VEHICLE THEFT'), 17850),\n",
       " (('009', 'NARCOTICS'), 33860),\n",
       " (('009', 'NON - CRIMINAL'), 4),\n",
       " (('009', 'NON-CRIMINAL'), 7),\n",
       " (('009', 'NON-CRIMINAL (SUBJECT SPECIFIED)'), 2),\n",
       " (('009', 'OBSCENITY'), 42),\n",
       " (('009', 'OFFENSE INVOLVING CHILDREN'), 2664),\n",
       " (('009', 'OTHER NARCOTIC VIOLATION'), 1),\n",
       " (('009', 'OTHER OFFENSE'), 20021),\n",
       " (('009', 'PROSTITUTION'), 5196),\n",
       " (('009', 'PUBLIC INDECENCY'), 11),\n",
       " (('009', 'PUBLIC PEACE VIOLATION'), 2970),\n",
       " (('009', 'ROBBERY'), 11962),\n",
       " (('009', 'SEX OFFENSE'), 1598),\n",
       " (('009', 'STALKING'), 147),\n",
       " (('009', 'THEFT'), 61357),\n",
       " (('009', 'WEAPONS VIOLATION'), 4709),\n",
       " (('010', 'ARSON'), 715),\n",
       " (('010', 'ASSAULT'), 18686),\n",
       " (('010', 'BATTERY'), 62677),\n",
       " (('010', 'BURGLARY'), 12946),\n",
       " (('010', 'CONCEALED CARRY LICENSE VIOLATION'), 36),\n",
       " (('010', 'CRIM SEXUAL ASSAULT'), 1307),\n",
       " (('010', 'CRIMINAL DAMAGE'), 31722),\n",
       " (('010', 'CRIMINAL TRESPASS'), 5738),\n",
       " (('010', 'DECEPTIVE PRACTICE'), 6397),\n",
       " (('010', 'GAMBLING'), 921),\n",
       " (('010', 'HOMICIDE'), 686),\n",
       " (('010', 'INTERFERENCE WITH PUBLIC OFFICER'), 729),\n",
       " (('010', 'INTIMIDATION'), 246),\n",
       " (('010', 'KIDNAPPING'), 224),\n",
       " (('010', 'LIQUOR LAW VIOLATION'), 1093),\n",
       " (('010', 'MOTOR VEHICLE THEFT'), 12797),\n",
       " (('010', 'NARCOTICS'), 44751),\n",
       " (('010', 'NON - CRIMINAL'), 4),\n",
       " (('010', 'NON-CRIMINAL'), 6),\n",
       " (('010', 'OBSCENITY'), 26),\n",
       " (('010', 'OFFENSE INVOLVING CHILDREN'), 2281),\n",
       " (('010', 'OTHER NARCOTIC VIOLATION'), 1),\n",
       " (('010', 'OTHER OFFENSE'), 19223),\n",
       " (('010', 'PROSTITUTION'), 2509),\n",
       " (('010', 'PUBLIC INDECENCY'), 2),\n",
       " (('010', 'PUBLIC PEACE VIOLATION'), 3743),\n",
       " (('010', 'ROBBERY'), 12447),\n",
       " (('010', 'SEX OFFENSE'), 1183),\n",
       " (('010', 'STALKING'), 164),\n",
       " (('010', 'THEFT'), 43439),\n",
       " (('010', 'WEAPONS VIOLATION'), 4536),\n",
       " (('011', 'ARSON'), 663),\n",
       " (('011', 'ASSAULT'), 24801),\n",
       " (('011', 'BATTERY'), 85389),\n",
       " (('011', 'BURGLARY'), 13860),\n",
       " (('011', 'CONCEALED CARRY LICENSE VIOLATION'), 25),\n",
       " (('011', 'CRIM SEXUAL ASSAULT'), 1696),\n",
       " (('011', 'CRIMINAL DAMAGE'), 36132),\n",
       " (('011', 'CRIMINAL TRESPASS'), 7942),\n",
       " (('011', 'DECEPTIVE PRACTICE'), 10360),\n",
       " (('011', 'GAMBLING'), 2055),\n",
       " (('011', 'HOMICIDE'), 1023),\n",
       " (('011', 'HUMAN TRAFFICKING'), 6),\n",
       " (('011', 'INTERFERENCE WITH PUBLIC OFFICER'), 1830),\n",
       " (('011', 'INTIMIDATION'), 175),\n",
       " (('011', 'KIDNAPPING'), 304),\n",
       " (('011', 'LIQUOR LAW VIOLATION'), 439),\n",
       " (('011', 'MOTOR VEHICLE THEFT'), 15626),\n",
       " (('011', 'NARCOTICS'), 124308),\n",
       " (('011', 'NON - CRIMINAL'), 2),\n",
       " (('011', 'NON-CRIMINAL'), 1),\n",
       " (('011', 'NON-CRIMINAL (SUBJECT SPECIFIED)'), 3),\n",
       " (('011', 'OBSCENITY'), 25),\n",
       " (('011', 'OFFENSE INVOLVING CHILDREN'), 2417),\n",
       " (('011', 'OTHER NARCOTIC VIOLATION'), 2),\n",
       " (('011', 'OTHER OFFENSE'), 20467),\n",
       " (('011', 'PROSTITUTION'), 10658),\n",
       " (('011', 'PUBLIC INDECENCY'), 7),\n",
       " (('011', 'PUBLIC PEACE VIOLATION'), 2286),\n",
       " (('011', 'RITUALISM'), 3),\n",
       " (('011', 'ROBBERY'), 19002),\n",
       " (('011', 'SEX OFFENSE'), 949),\n",
       " (('011', 'STALKING'), 166),\n",
       " (('011', 'THEFT'), 49447),\n",
       " (('011', 'WEAPONS VIOLATION'), 6268),\n",
       " (('012', 'ARSON'), 494),\n",
       " (('012', 'ASSAULT'), 18138),\n",
       " (('012', 'BATTERY'), 49298),\n",
       " (('012', 'BURGLARY'), 17514),\n",
       " (('012', 'CONCEALED CARRY LICENSE VIOLATION'), 10),\n",
       " (('012', 'CRIM SEXUAL ASSAULT'), 1188),\n",
       " (('012', 'CRIMINAL DAMAGE'), 39663),\n",
       " (('012', 'CRIMINAL TRESPASS'), 10542),\n",
       " (('012', 'DECEPTIVE PRACTICE'), 13395),\n",
       " (('012', 'GAMBLING'), 388),\n",
       " (('012', 'HOMICIDE'), 381),\n",
       " (('012', 'HUMAN TRAFFICKING'), 5),\n",
       " (('012', 'INTERFERENCE WITH PUBLIC OFFICER'), 454),\n",
       " (('012', 'INTIMIDATION'), 201),\n",
       " (('012', 'KIDNAPPING'), 164),\n",
       " (('012', 'LIQUOR LAW VIOLATION'), 1041),\n",
       " (('012', 'MOTOR VEHICLE THEFT'), 15921),\n",
       " (('012', 'NARCOTICS'), 23916),\n",
       " (('012', 'NON - CRIMINAL'), 2),\n",
       " (('012', 'NON-CRIMINAL'), 8),\n",
       " (('012', 'OBSCENITY'), 26),\n",
       " (('012', 'OFFENSE INVOLVING CHILDREN'), 1726),\n",
       " (('012', 'OTHER NARCOTIC VIOLATION'), 4),\n",
       " (('012', 'OTHER OFFENSE'), 16846),\n",
       " (('012', 'PROSTITUTION'), 4029),\n",
       " (('012', 'PUBLIC INDECENCY'), 4),\n",
       " (('012', 'PUBLIC PEACE VIOLATION'), 2266),\n",
       " (('012', 'ROBBERY'), 11398),\n",
       " (('012', 'SEX OFFENSE'), 1234),\n",
       " (('012', 'STALKING'), 180),\n",
       " (('012', 'THEFT'), 95636),\n",
       " (('012', 'WEAPONS VIOLATION'), 2282),\n",
       " (('014', 'ARSON'), 551),\n",
       " (('014', 'ASSAULT'), 14076),\n",
       " (('014', 'BATTERY'), 39716),\n",
       " (('014', 'BURGLARY'), 20565),\n",
       " (('014', 'CONCEALED CARRY LICENSE VIOLATION'), 4),\n",
       " (('014', 'CRIM SEXUAL ASSAULT'), 1014),\n",
       " (('014', 'CRIMINAL DAMAGE'), 33943),\n",
       " (('014', 'CRIMINAL TRESPASS'), 5333),\n",
       " (('014', 'DECEPTIVE PRACTICE'), 10393),\n",
       " (('014', 'GAMBLING'), 121),\n",
       " (('014', 'HOMICIDE'), 243),\n",
       " (('014', 'HUMAN TRAFFICKING'), 1),\n",
       " (('014', 'INTERFERENCE WITH PUBLIC OFFICER'), 376),\n",
       " (('014', 'INTIMIDATION'), 136),\n",
       " (('014', 'KIDNAPPING'), 213),\n",
       " (('014', 'LIQUOR LAW VIOLATION'), 945),\n",
       " (('014', 'MOTOR VEHICLE THEFT'), 14753),\n",
       " (('014', 'NARCOTICS'), 15048),\n",
       " (('014', 'NON - CRIMINAL'), 1),\n",
       " (('014', 'NON-CRIMINAL'), 3),\n",
       " (('014', 'OBSCENITY'), 22),\n",
       " (('014', 'OFFENSE INVOLVING CHILDREN'), 1521),\n",
       " (('014', 'OTHER NARCOTIC VIOLATION'), 12),\n",
       " (('014', 'OTHER OFFENSE'), 13662),\n",
       " (('014', 'PROSTITUTION'), 4307),\n",
       " (('014', 'PUBLIC INDECENCY'), 7),\n",
       " (('014', 'PUBLIC PEACE VIOLATION'), 1593),\n",
       " (('014', 'RITUALISM'), 1),\n",
       " (('014', 'ROBBERY'), 10666),\n",
       " (('014', 'SEX OFFENSE'), 1110),\n",
       " (('014', 'STALKING'), 128),\n",
       " (('014', 'THEFT'), 78233),\n",
       " (('014', 'WEAPONS VIOLATION'), 1762),\n",
       " (('015', 'ARSON'), 529),\n",
       " (('015', 'ASSAULT'), 17804),\n",
       " (('015', 'BATTERY'), 62098),\n",
       " (('015', 'BURGLARY'), 10048),\n",
       " (('015', 'CONCEALED CARRY LICENSE VIOLATION'), 12),\n",
       " (('015', 'CRIM SEXUAL ASSAULT'), 1345),\n",
       " (('015', 'CRIMINAL DAMAGE'), 25656),\n",
       " (('015', 'CRIMINAL TRESPASS'), 5575),\n",
       " (('015', 'DECEPTIVE PRACTICE'), 6444),\n",
       " (('015', 'GAMBLING'), 2059),\n",
       " (('015', 'HOMICIDE'), 614),\n",
       " (('015', 'HUMAN TRAFFICKING'), 5),\n",
       " (('015', 'INTERFERENCE WITH PUBLIC OFFICER'), 1039),\n",
       " (('015', 'INTIMIDATION'), 116),\n",
       " (('015', 'KIDNAPPING'), 231),\n",
       " (('015', 'LIQUOR LAW VIOLATION'), 454),\n",
       " (('015', 'MOTOR VEHICLE THEFT'), 10182),\n",
       " (('015', 'NARCOTICS'), 78653),\n",
       " (('015', 'NON - CRIMINAL'), 1),\n",
       " (('015', 'NON-CRIMINAL'), 4),\n",
       " (('015', 'OBSCENITY'), 14),\n",
       " (('015', 'OFFENSE INVOLVING CHILDREN'), 1930),\n",
       " (('015', 'OTHER NARCOTIC VIOLATION'), 1),\n",
       " (('015', 'OTHER OFFENSE'), 18093),\n",
       " (('015', 'PROSTITUTION'), 2831),\n",
       " (('015', 'PUBLIC INDECENCY'), 4),\n",
       " (('015', 'PUBLIC PEACE VIOLATION'), 1807),\n",
       " (('015', 'RITUALISM'), 1),\n",
       " (('015', 'ROBBERY'), 12437),\n",
       " (('015', 'SEX OFFENSE'), 735),\n",
       " (('015', 'STALKING'), 87),\n",
       " (('015', 'THEFT'), 32477),\n",
       " (('015', 'WEAPONS VIOLATION'), 3968),\n",
       " (('016', 'ARSON'), 343),\n",
       " (('016', 'ASSAULT'), 11768),\n",
       " (('016', 'BATTERY'), 31328),\n",
       " (('016', 'BURGLARY'), 14357),\n",
       " (('016', 'CONCEALED CARRY LICENSE VIOLATION'), 93),\n",
       " (('016', 'CRIM SEXUAL ASSAULT'), 615),\n",
       " (('016', 'CRIMINAL DAMAGE'), 35088),\n",
       " (('016', 'CRIMINAL TRESPASS'), 7273),\n",
       " (('016', 'DECEPTIVE PRACTICE'), 12287),\n",
       " (('016', 'GAMBLING'), 136),\n",
       " (('016', 'HOMICIDE'), 84),\n",
       " (('016', 'HUMAN TRAFFICKING'), 3),\n",
       " (('016', 'INTERFERENCE WITH PUBLIC OFFICER'), 294),\n",
       " (('016', 'INTIMIDATION'), 138),\n",
       " (('016', 'KIDNAPPING'), 347),\n",
       " (('016', 'LIQUOR LAW VIOLATION'), 641),\n",
       " (('016', 'MOTOR VEHICLE THEFT'), 10214),\n",
       " (('016', 'NARCOTICS'), 10497),\n",
       " (('016', 'NON - CRIMINAL'), 5),\n",
       " (('016', 'NON-CRIMINAL'), 29),\n",
       " (('016', 'OBSCENITY'), 35),\n",
       " (('016', 'OFFENSE INVOLVING CHILDREN'), 1495),\n",
       " (('016', 'OTHER NARCOTIC VIOLATION'), 10),\n",
       " (('016', 'OTHER OFFENSE'), 24854),\n",
       " (('016', 'PROSTITUTION'), 407),\n",
       " (('016', 'PUBLIC INDECENCY'), 4),\n",
       " (('016', 'PUBLIC PEACE VIOLATION'), 1353),\n",
       " (('016', 'ROBBERY'), 3558),\n",
       " (('016', 'SEX OFFENSE'), 1037),\n",
       " (('016', 'STALKING'), 143),\n",
       " (('016', 'THEFT'), 54484),\n",
       " (('016', 'WEAPONS VIOLATION'), 956),\n",
       " (('017', 'ARSON'), 389),\n",
       " (('017', 'ASSAULT'), 9456),\n",
       " (('017', 'BATTERY'), 30010),\n",
       " (('017', 'BURGLARY'), 15005),\n",
       " (('017', 'CONCEALED CARRY LICENSE VIOLATION'), 3),\n",
       " (('017', 'CRIM SEXUAL ASSAULT'), 808),\n",
       " (('017', 'CRIMINAL DAMAGE'), 28638),\n",
       " (('017', 'CRIMINAL TRESPASS'), 3946),\n",
       " (('017', 'DECEPTIVE PRACTICE'), 8264),\n",
       " (('017', 'GAMBLING'), 188),\n",
       " (('017', 'HOMICIDE'), 148),\n",
       " (('017', 'INTERFERENCE WITH PUBLIC OFFICER'), 277),\n",
       " (('017', 'INTIMIDATION'), 119),\n",
       " (('017', 'KIDNAPPING'), 228),\n",
       " (('017', 'LIQUOR LAW VIOLATION'), 684),\n",
       " (('017', 'MOTOR VEHICLE THEFT'), 12617),\n",
       " (('017', 'NARCOTICS'), 9558),\n",
       " (('017', 'NON-CRIMINAL'), 6),\n",
       " (('017', 'OBSCENITY'), 19),\n",
       " (('017', 'OFFENSE INVOLVING CHILDREN'), 1384),\n",
       " (('017', 'OTHER NARCOTIC VIOLATION'), 14),\n",
       " (('017', 'OTHER OFFENSE'), 13527),\n",
       " (('017', 'PROSTITUTION'), 960),\n",
       " (('017', 'PUBLIC INDECENCY'), 2),\n",
       " (('017', 'PUBLIC PEACE VIOLATION'), 1295),\n",
       " (('017', 'ROBBERY'), 6310),\n",
       " (('017', 'SEX OFFENSE'), 1115),\n",
       " (('017', 'STALKING'), 123),\n",
       " (('017', 'THEFT'), 49173),\n",
       " (('017', 'WEAPONS VIOLATION'), 1101),\n",
       " (('018', 'ARSON'), 110),\n",
       " (('018', 'ASSAULT'), 10664),\n",
       " (('018', 'BATTERY'), 36992),\n",
       " (('018', 'BURGLARY'), 10329),\n",
       " (('018', 'CONCEALED CARRY LICENSE VIOLATION'), 12),\n",
       " (('018', 'CRIM SEXUAL ASSAULT'), 1100),\n",
       " (('018', 'CRIMINAL DAMAGE'), 23092),\n",
       " (('018', 'CRIMINAL TRESPASS'), 15539),\n",
       " (('018', 'DECEPTIVE PRACTICE'), 27769),\n",
       " (('018', 'GAMBLING'), 110),\n",
       " (('018', 'HOMICIDE'), 112),\n",
       " (('018', 'HUMAN TRAFFICKING'), 2),\n",
       " (('018', 'INTERFERENCE WITH PUBLIC OFFICER'), 524),\n",
       " (('018', 'INTIMIDATION'), 130),\n",
       " (('018', 'KIDNAPPING'), 123),\n",
       " (('018', 'LIQUOR LAW VIOLATION'), 928),\n",
       " (('018', 'MOTOR VEHICLE THEFT'), 6866),\n",
       " (('018', 'NARCOTICS'), 12996),\n",
       " (('018', 'NON - CRIMINAL'), 1),\n",
       " (('018', 'NON-CRIMINAL'), 12),\n",
       " (('018', 'OBSCENITY'), 20),\n",
       " (('018', 'OFFENSE INVOLVING CHILDREN'), 668),\n",
       " (('018', 'OTHER NARCOTIC VIOLATION'), 10),\n",
       " (('018', 'OTHER OFFENSE'), 10933),\n",
       " (('018', 'PROSTITUTION'), 4937),\n",
       " (('018', 'PUBLIC INDECENCY'), 26),\n",
       " (('018', 'PUBLIC PEACE VIOLATION'), 1535),\n",
       " (('018', 'RITUALISM'), 2),\n",
       " (('018', 'ROBBERY'), 8154),\n",
       " (('018', 'SEX OFFENSE'), 970),\n",
       " (('018', 'STALKING'), 145),\n",
       " (('018', 'THEFT'), 132033),\n",
       " (('018', 'WEAPONS VIOLATION'), 917),\n",
       " (('019', 'ARSON'), 256),\n",
       " (('019', 'ASSAULT'), 12454),\n",
       " (('019', 'BATTERY'), 38526),\n",
       " (('019', 'BURGLARY'), 21912),\n",
       " (('019', 'CONCEALED CARRY LICENSE VIOLATION'), 7),\n",
       " (('019', 'CRIM SEXUAL ASSAULT'), 1323),\n",
       " (('019', 'CRIMINAL DAMAGE'), 33568),\n",
       " (('019', 'CRIMINAL TRESPASS'), 10906),\n",
       " (('019', 'DECEPTIVE PRACTICE'), 22613),\n",
       " (('019', 'GAMBLING'), 157),\n",
       " (('019', 'HOMICIDE'), 144),\n",
       " (('019', 'HUMAN TRAFFICKING'), 1),\n",
       " (('019', 'INTERFERENCE WITH PUBLIC OFFICER'), 383),\n",
       " (('019', 'INTIMIDATION'), 150),\n",
       " (('019', 'KIDNAPPING'), 161),\n",
       " (('019', 'LIQUOR LAW VIOLATION'), 1061),\n",
       " (('019', 'MOTOR VEHICLE THEFT'), 10923),\n",
       " (('019', 'NARCOTICS'), 15197),\n",
       " (('019', 'NON-CRIMINAL'), 22),\n",
       " (('019', 'OBSCENITY'), 31),\n",
       " (('019', 'OFFENSE INVOLVING CHILDREN'), 978),\n",
       " (('019', 'OTHER NARCOTIC VIOLATION'), 20),\n",
       " (('019', 'OTHER OFFENSE'), 16006),\n",
       " (('019', 'PROSTITUTION'), 1978),\n",
       " (('019', 'PUBLIC INDECENCY'), 16),\n",
       " (('019', 'PUBLIC PEACE VIOLATION'), 1887),\n",
       " (('019', 'RITUALISM'), 1),\n",
       " (('019', 'ROBBERY'), 9850),\n",
       " (('019', 'SEX OFFENSE'), 1566),\n",
       " (('019', 'STALKING'), 162),\n",
       " (('019', 'THEFT'), 104105),\n",
       " (('019', 'WEAPONS VIOLATION'), 893),\n",
       " (('020', 'ARSON'), 108),\n",
       " (('020', 'ASSAULT'), 6512),\n",
       " (('020', 'BATTERY'), 19066),\n",
       " (('020', 'BURGLARY'), 6754),\n",
       " (('020', 'CONCEALED CARRY LICENSE VIOLATION'), 2),\n",
       " (('020', 'CRIM SEXUAL ASSAULT'), 558),\n",
       " (('020', 'CRIMINAL DAMAGE'), 14366),\n",
       " (('020', 'CRIMINAL TRESPASS'), 3629),\n",
       " (('020', 'DECEPTIVE PRACTICE'), 6916),\n",
       " (('020', 'GAMBLING'), 121),\n",
       " (('020', 'HOMICIDE'), 67),\n",
       " (('020', 'INTERFERENCE WITH PUBLIC OFFICER'), 161),\n",
       " (('020', 'INTIMIDATION'), 64),\n",
       " (('020', 'KIDNAPPING'), 104),\n",
       " (('020', 'LIQUOR LAW VIOLATION'), 449),\n",
       " (('020', 'MOTOR VEHICLE THEFT'), 4648),\n",
       " (('020', 'NARCOTICS'), 7632),\n",
       " (('020', 'NON-CRIMINAL'), 5),\n",
       " (('020', 'NON-CRIMINAL (SUBJECT SPECIFIED)'), 1),\n",
       " (('020', 'OBSCENITY'), 7),\n",
       " (('020', 'OFFENSE INVOLVING CHILDREN'), 581),\n",
       " (('020', 'OTHER NARCOTIC VIOLATION'), 4),\n",
       " (('020', 'OTHER OFFENSE'), 8861),\n",
       " (('020', 'PROSTITUTION'), 494),\n",
       " (('020', 'PUBLIC INDECENCY'), 2),\n",
       " (('020', 'PUBLIC PEACE VIOLATION'), 1074),\n",
       " (('020', 'ROBBERY'), 3529),\n",
       " (('020', 'SEX OFFENSE'), 629),\n",
       " (('020', 'STALKING'), 62),\n",
       " (('020', 'THEFT'), 30426),\n",
       " (('020', 'WEAPONS VIOLATION'), 486),\n",
       " (('021', 'BATTERY'), 2),\n",
       " (('021', 'NARCOTICS'), 1),\n",
       " (('021', 'THEFT'), 1),\n",
       " (('022', 'ARSON'), 301),\n",
       " (('022', 'ASSAULT'), 13896),\n",
       " (('022', 'BATTERY'), 36967),\n",
       " (('022', 'BURGLARY'), 14764),\n",
       " (('022', 'CONCEALED CARRY LICENSE VIOLATION'), 10),\n",
       " (('022', 'CRIM SEXUAL ASSAULT'), 876),\n",
       " (('022', 'CRIMINAL DAMAGE'), 29161),\n",
       " (('022', 'CRIMINAL TRESPASS'), 5360),\n",
       " (('022', 'DECEPTIVE PRACTICE'), 10044),\n",
       " (('022', 'GAMBLING'), 325),\n",
       " (('022', 'HOMICIDE'), 344),\n",
       " (('022', 'HUMAN TRAFFICKING'), 2),\n",
       " (('022', 'INTERFERENCE WITH PUBLIC OFFICER'), 503),\n",
       " (('022', 'INTIMIDATION'), 141),\n",
       " (('022', 'KIDNAPPING'), 500),\n",
       " (('022', 'LIQUOR LAW VIOLATION'), 328),\n",
       " (('022', 'MOTOR VEHICLE THEFT'), 8918),\n",
       " (('022', 'NARCOTICS'), 18147),\n",
       " (('022', 'NON-CRIMINAL'), 2),\n",
       " (('022', 'OBSCENITY'), 21),\n",
       " (('022', 'OFFENSE INVOLVING CHILDREN'), 2208),\n",
       " (('022', 'OTHER OFFENSE'), 18022),\n",
       " (('022', 'PROSTITUTION'), 232),\n",
       " (('022', 'PUBLIC INDECENCY'), 4),\n",
       " (('022', 'PUBLIC PEACE VIOLATION'), 1064),\n",
       " (('022', 'ROBBERY'), 8062),\n",
       " (('022', 'SEX OFFENSE'), 744),\n",
       " (('022', 'STALKING'), 139),\n",
       " (('022', 'THEFT'), 42621),\n",
       " (('022', 'WEAPONS VIOLATION'), 2452),\n",
       " (('024', 'ARSON'), 238),\n",
       " (('024', 'ASSAULT'), 11499),\n",
       " (('024', 'BATTERY'), 34846),\n",
       " (('024', 'BURGLARY'), 12708),\n",
       " (('024', 'CONCEALED CARRY LICENSE VIOLATION'), 4),\n",
       " (('024', 'CRIM SEXUAL ASSAULT'), 890),\n",
       " (('024', 'CRIMINAL DAMAGE'), 27327),\n",
       " (('024', 'CRIMINAL TRESPASS'), 6176),\n",
       " (('024', 'DECEPTIVE PRACTICE'), 9413),\n",
       " (('024', 'GAMBLING'), 292),\n",
       " (('024', 'HOMICIDE'), 166),\n",
       " (('024', 'INTERFERENCE WITH PUBLIC OFFICER'), 461),\n",
       " (('024', 'INTIMIDATION'), 102),\n",
       " (('024', 'KIDNAPPING'), 202),\n",
       " (('024', 'LIQUOR LAW VIOLATION'), 626),\n",
       " (('024', 'MOTOR VEHICLE THEFT'), 7558),\n",
       " (('024', 'NARCOTICS'), 15370),\n",
       " (('024', 'NON-CRIMINAL'), 3),\n",
       " (('024', 'OBSCENITY'), 26),\n",
       " (('024', 'OFFENSE INVOLVING CHILDREN'), 1441),\n",
       " (('024', 'OTHER NARCOTIC VIOLATION'), 4),\n",
       " (('024', 'OTHER OFFENSE'), 15148),\n",
       " (('024', 'PROSTITUTION'), 1253),\n",
       " (('024', 'PUBLIC INDECENCY'), 4),\n",
       " (('024', 'PUBLIC PEACE VIOLATION'), 1046),\n",
       " (('024', 'ROBBERY'), 8122),\n",
       " (('024', 'SEX OFFENSE'), 976),\n",
       " (('024', 'STALKING'), 110),\n",
       " (('024', 'THEFT'), 48599),\n",
       " (('024', 'WEAPONS VIOLATION'), 1373),\n",
       " (('025', 'ARSON'), 1096),\n",
       " (('025', 'ASSAULT'), 23440),\n",
       " (('025', 'BATTERY'), 67669),\n",
       " (('025', 'BURGLARY'), 27027),\n",
       " (('025', 'CONCEALED CARRY LICENSE VIOLATION'), 19),\n",
       " (('025', 'CRIM SEXUAL ASSAULT'), 1640),\n",
       " (('025', 'CRIMINAL DAMAGE'), 47071),\n",
       " (('025', 'CRIMINAL TRESPASS'), 7136),\n",
       " (('025', 'DECEPTIVE PRACTICE'), 13418),\n",
       " (('025', 'GAMBLING'), 581),\n",
       " (('025', 'HOMICIDE'), 515),\n",
       " (('025', 'HUMAN TRAFFICKING'), 1),\n",
       " (('025', 'INTERFERENCE WITH PUBLIC OFFICER'), 1248),\n",
       " (('025', 'INTIMIDATION'), 218),\n",
       " (('025', 'KIDNAPPING'), 480),\n",
       " (('025', 'LIQUOR LAW VIOLATION'), 961),\n",
       " (('025', 'MOTOR VEHICLE THEFT'), 24288),\n",
       " (('025', 'NARCOTICS'), 37365),\n",
       " (('025', 'NON-CRIMINAL'), 13),\n",
       " (('025', 'OBSCENITY'), 32),\n",
       " (('025', 'OFFENSE INVOLVING CHILDREN'), 3326),\n",
       " (('025', 'OTHER NARCOTIC VIOLATION'), 6),\n",
       " (('025', 'OTHER OFFENSE'), 28058),\n",
       " (('025', 'PROSTITUTION'), 7844),\n",
       " (('025', 'PUBLIC INDECENCY'), 7),\n",
       " (('025', 'PUBLIC PEACE VIOLATION'), 2766),\n",
       " (('025', 'RITUALISM'), 1),\n",
       " (('025', 'ROBBERY'), 15619),\n",
       " (('025', 'SEX OFFENSE'), 1624),\n",
       " (('025', 'STALKING'), 148),\n",
       " (('025', 'THEFT'), 73863),\n",
       " (('025', 'WEAPONS VIOLATION'), 4246),\n",
       " (('031', 'ARSON'), 2),\n",
       " (('031', 'ASSAULT'), 8),\n",
       " (('031', 'BATTERY'), 19),\n",
       " (('031', 'BURGLARY'), 3),\n",
       " (('031', 'CRIM SEXUAL ASSAULT'), 2),\n",
       " (('031', 'CRIMINAL DAMAGE'), 29),\n",
       " (('031', 'CRIMINAL TRESPASS'), 5),\n",
       " (('031', 'DECEPTIVE PRACTICE'), 21),\n",
       " (('031', 'KIDNAPPING'), 1),\n",
       " (('031', 'MOTOR VEHICLE THEFT'), 6),\n",
       " (('031', 'NARCOTICS'), 43),\n",
       " (('031', 'OFFENSE INVOLVING CHILDREN'), 8),\n",
       " (('031', 'OTHER OFFENSE'), 6),\n",
       " (('031', 'PUBLIC PEACE VIOLATION'), 1),\n",
       " (('031', 'ROBBERY'), 1),\n",
       " (('031', 'SEX OFFENSE'), 3),\n",
       " (('031', 'STALKING'), 1),\n",
       " (('031', 'THEFT'), 37)]"
      ]
     },
     "execution_count": 14,
     "metadata": {},
     "output_type": "execute_result"
    }
   ],
   "source": [
    "distWithType = districts.zip(primaryType)\n",
    "distWithTypeCollection = distWithType.countByValue()\n",
    "sorted(distWithTypeCollection.items())"
   ]
  },
  {
   "cell_type": "markdown",
   "metadata": {},
   "source": [
    "# Extract Location Description"
   ]
  },
  {
   "cell_type": "code",
   "execution_count": 15,
   "metadata": {},
   "outputs": [
    {
     "data": {
      "text/plain": [
       "['RESIDENCE', 'RESIDENCE', 'OTHER', 'RESIDENCE', 'HOTEL/MOTEL']"
      ]
     },
     "execution_count": 15,
     "metadata": {},
     "output_type": "execute_result"
    }
   ],
   "source": [
    "locationDesc = crimesMapped.map(lambda x: x[7])\n",
    "locationDesc.take(5)"
   ]
  },
  {
   "cell_type": "code",
   "execution_count": 16,
   "metadata": {},
   "outputs": [],
   "source": [
    "sortLocationDesc = locationDesc.countByValue()"
   ]
  },
  {
   "cell_type": "markdown",
   "metadata": {},
   "source": [
    "# 3. Number of crimes per location description"
   ]
  },
  {
   "cell_type": "code",
   "execution_count": 17,
   "metadata": {
    "scrolled": true
   },
   "outputs": [
    {
     "data": {
      "text/plain": [
       "[('STREET', 1806413),\n",
       " ('RESIDENCE', 1189963),\n",
       " ('APARTMENT', 735277),\n",
       " ('SIDEWALK', 686894),\n",
       " ('OTHER', 265143),\n",
       " ('PARKING LOT/GARAGE(NON.RESID.)', 197666),\n",
       " ('\"SCHOOL', 194052),\n",
       " ('ALLEY', 155576),\n",
       " ('RESIDENCE-GARAGE', 134818),\n",
       " ('SMALL RETAIL STORE', 126640),\n",
       " ('RESIDENCE PORCH/HALLWAY', 123220),\n",
       " ('VEHICLE NON-COMMERCIAL', 113273),\n",
       " ('RESTAURANT', 113216),\n",
       " ('GROCERY FOOD STORE', 90939),\n",
       " ('DEPARTMENT STORE', 88874),\n",
       " ('GAS STATION', 75686),\n",
       " ('RESIDENTIAL YARD (FRONT/BACK)', 73966),\n",
       " ('CHA PARKING LOT/GROUNDS', 55986),\n",
       " ('PARK PROPERTY', 54069),\n",
       " ('COMMERCIAL / BUSINESS OFFICE', 50311),\n",
       " ('BAR OR TAVERN', 38369),\n",
       " ('CTA PLATFORM', 37534),\n",
       " ('CHA APARTMENT', 36793),\n",
       " ('DRUG STORE', 31825),\n",
       " ('HOTEL/MOTEL', 29561),\n",
       " ('BANK', 28593),\n",
       " ('CTA TRAIN', 26360),\n",
       " (' BUS', 25884),\n",
       " ('CHA HALLWAY/STAIRWELL/ELEVATOR', 24998),\n",
       " ('VACANT LOT/LAND', 24319),\n",
       " ('CTA BUS', 22699),\n",
       " ('TAVERN/LIQUOR STORE', 22343),\n",
       " ('HOSPITAL BUILDING/GROUNDS', 21945),\n",
       " ('DRIVEWAY - RESIDENTIAL', 19808),\n",
       " ('POLICE FACILITY/VEH PARKING LOT', 18359),\n",
       " ('CONVENIENCE STORE', 18354),\n",
       " ('CHURCH/SYNAGOGUE/PLACE OF WORSHIP', 15416),\n",
       " ('AIRPORT/AIRCRAFT', 15284),\n",
       " ('GOVERNMENT BUILDING/PROPERTY', 14666),\n",
       " ('NURSING HOME/RETIREMENT HOME', 14470),\n",
       " ('CONSTRUCTION SITE', 13210),\n",
       " ('ABANDONED BUILDING', 11461),\n",
       " ('CURRENCY EXCHANGE', 11102),\n",
       " ('CTA GARAGE / OTHER PROPERTY', 10187),\n",
       " ('WAREHOUSE', 9517),\n",
       " ('ATHLETIC CLUB', 8561),\n",
       " ('BARBERSHOP', 7950),\n",
       " ('ATM (AUTOMATIC TELLER MACHINE)', 7918),\n",
       " ('TAXICAB', 7504),\n",
       " ('MEDICAL/DENTAL OFFICE', 7382),\n",
       " ('FACTORY/MANUFACTURING BUILDING', 6861),\n",
       " ('CTA BUS STOP', 6714),\n",
       " ('LIBRARY', 6181),\n",
       " ('', 5985),\n",
       " ('OTHER RAILROAD PROP / TRAIN DEPOT', 5892),\n",
       " ('COLLEGE/UNIVERSITY GROUNDS', 5758),\n",
       " (' SCOOTER', 5667),\n",
       " ('VEHICLE-COMMERCIAL', 5471),\n",
       " ('SPORTS ARENA/STADIUM', 5226),\n",
       " ('CTA STATION', 5143),\n",
       " ('MOTOR VEH\"', 5139),\n",
       " ('CLEANING STORE', 4818),\n",
       " ('AIRPORT TERMINAL UPPER LEVEL - SECURE AREA', 4093),\n",
       " ('DAY CARE CENTER', 2964),\n",
       " ('OTHER COMMERCIAL TRANSPORTATION', 2958),\n",
       " ('CAR WASH', 2894),\n",
       " ('BUS', 2824),\n",
       " ('MOVIE HOUSE/THEATER', 2705),\n",
       " ('APPLIANCE STORE', 1878),\n",
       " ('AIRPORT TERMINAL LOWER LEVEL - NON-SECURE AREA', 1747),\n",
       " ('COLLEGE/UNIVERSITY RESIDENCE HALL', 1396),\n",
       " ('LAKEFRONT/WATERFRONT/RIVERBANK', 1177),\n",
       " ('AUTO', 1152),\n",
       " ('JAIL / LOCK-UP FACILITY', 1098),\n",
       " ('HIGHWAY/EXPRESSWAY', 1069),\n",
       " ('COIN OPERATED MACHINE', 1064),\n",
       " ('FIRE STATION', 1049),\n",
       " ('DELIVERY TRUCK', 954),\n",
       " ('POOL ROOM', 926),\n",
       " ('AIRPORT BUILDING NON-TERMINAL - NON-SECURE AREA', 827),\n",
       " ('FEDERAL BUILDING', 824),\n",
       " ('ANIMAL HOSPITAL', 805),\n",
       " ('AIRPORT TERMINAL UPPER LEVEL - NON-SECURE AREA', 747),\n",
       " ('AIRPORT PARKING LOT', 712),\n",
       " ('AIRPORT EXTERIOR - NON-SECURE AREA', 706),\n",
       " ('BOAT/WATERCRAFT', 700),\n",
       " ('BOWLING ALLEY', 699),\n",
       " ('AIRCRAFT', 688),\n",
       " ('AIRPORT TERMINAL LOWER LEVEL - SECURE AREA', 674),\n",
       " ('AIRPORT BUILDING NON-TERMINAL - SECURE AREA', 615),\n",
       " ('PAWN SHOP', 590),\n",
       " ('HOUSE', 547),\n",
       " ('CREDIT UNION', 516),\n",
       " ('NON-VEH\"', 493),\n",
       " ('AIRPORT VENDING ESTABLISHMENT', 449),\n",
       " ('AUTO / BOAT / RV DEALERSHIP', 447),\n",
       " ('\"VEHICLE - OTHER RIDE SHARE SERVICE (E.G.', 440),\n",
       " ('BRIDGE', 405),\n",
       " ('FOREST PRESERVE', 389),\n",
       " ('SAVINGS AND LOAN', 364),\n",
       " ('CEMETARY', 357),\n",
       " ('VEHICLE - OTHER RIDE SERVICE', 321),\n",
       " ('PORCH', 307),\n",
       " ('AIRPORT EXTERIOR - SECURE AREA', 305),\n",
       " ('NEWSSTAND', 234),\n",
       " ('YARD', 214),\n",
       " ('PARKING LOT', 167),\n",
       " ('VEHICLE - DELIVERY TRUCK', 156),\n",
       " ('CTA TRACKS - RIGHT OF WAY', 147),\n",
       " ('VACANT LOT', 105),\n",
       " ('AIRPORT TRANSPORTATION SYSTEM (ATS)', 95),\n",
       " ('AIRPORT TERMINAL MEZZANINE - NON-SECURE AREA', 87),\n",
       " ('HALLWAY', 84),\n",
       " ('RETAIL STORE', 72),\n",
       " ('GANGWAY', 67),\n",
       " ('GARAGE', 57),\n",
       " ('GAS STATION DRIVE/PROP.', 44),\n",
       " ('CHA PARKING LOT', 44),\n",
       " ('CHA GROUNDS', 43),\n",
       " ('CHA HALLWAY', 35),\n",
       " ('TAVERN', 34),\n",
       " ('BASEMENT', 31),\n",
       " ('STAIRWELL', 20),\n",
       " ('HOTEL', 19),\n",
       " ('VESTIBULE', 17),\n",
       " ('DRIVEWAY', 17),\n",
       " ('OFFICE', 15),\n",
       " ('CLUB', 15),\n",
       " ('BARBER SHOP/BEAUTY SALON', 15),\n",
       " ('RAILROAD PROPERTY', 14),\n",
       " ('SCHOOL YARD', 11),\n",
       " ('GARAGE/AUTO REPAIR', 11),\n",
       " ('VEHICLE-COMMERCIAL - TROLLEY BUS', 10),\n",
       " ('VEHICLE-COMMERCIAL - ENTERTAINMENT/PARTY BUS', 10),\n",
       " ('TRUCK', 8),\n",
       " ('HOSPITAL', 8),\n",
       " ('CHA STAIRWELL', 8),\n",
       " ('WOODED AREA', 7),\n",
       " ('LIQUOR STORE', 7),\n",
       " ('DUMPSTER', 7),\n",
       " ('TAXI CAB', 6),\n",
       " ('KENNEL', 6),\n",
       " ('CHURCH', 6),\n",
       " ('CHA LOBBY', 6),\n",
       " ('NURSING HOME', 5),\n",
       " ('MOTEL', 5),\n",
       " ('FARM', 5),\n",
       " ('\"CTA \"\"L\"\" PLATFORM\"', 5),\n",
       " ('TRAILER', 4),\n",
       " ('RIVER BANK', 4),\n",
       " ('RIVER', 4),\n",
       " ('CTA PROPERTY', 4),\n",
       " ('CHA PLAY LOT', 4),\n",
       " ('YMCA', 3),\n",
       " ('SEWER', 3),\n",
       " ('LAKE', 3),\n",
       " ('COACH HOUSE', 3),\n",
       " ('CHA BREEZEWAY', 3),\n",
       " ('ROOMING HOUSE', 2),\n",
       " ('PUBLIC HIGH SCHOOL', 2),\n",
       " ('PRAIRIE', 2),\n",
       " ('LIVERY STAND OFFICE', 2),\n",
       " ('LAUNDRY ROOM', 2),\n",
       " ('HORSE STABLE', 2),\n",
       " ('GOVERNMENT BUILDING', 2),\n",
       " ('FACTORY', 2),\n",
       " ('COUNTY JAIL', 2),\n",
       " ('CHURCH PROPERTY', 2),\n",
       " ('CHA ELEVATOR', 2),\n",
       " ('\"CTA \"\"L\"\" TRAIN\"', 2),\n",
       " ('TRUCKING TERMINAL', 1),\n",
       " ('PUBLIC GRAMMAR SCHOOL', 1),\n",
       " ('POOLROOM', 1),\n",
       " ('LOADING DOCK', 1),\n",
       " ('LIVERY AUTO', 1),\n",
       " ('LAGOON', 1),\n",
       " ('JUNK YARD/GARBAGE DUMP', 1),\n",
       " ('FUNERAL PARLOR', 1),\n",
       " ('EXPRESSWAY EMBANKMENT', 1),\n",
       " ('ELEVATOR', 1),\n",
       " ('CTA SUBWAY STATION', 1),\n",
       " ('CLEANERS/LAUNDROMAT', 1),\n",
       " ('BANQUET HALL', 1)]"
      ]
     },
     "execution_count": 17,
     "metadata": {},
     "output_type": "execute_result"
    }
   ],
   "source": [
    "sorted(sortLocationDesc.items(), key=lambda k_v: k_v[::-1], reverse = True) "
   ]
  },
  {
   "cell_type": "markdown",
   "metadata": {},
   "source": [
    "# 4. How many reported crimes lead to an arrest"
   ]
  },
  {
   "cell_type": "code",
   "execution_count": 18,
   "metadata": {},
   "outputs": [],
   "source": [
    "arrest = crimesMapped.map(lambda x:x[8])\n"
   ]
  },
  {
   "cell_type": "code",
   "execution_count": 19,
   "metadata": {},
   "outputs": [],
   "source": [
    "def arrestCheck(x):\n",
    "    if(x == \"true\" or x =='false'):\n",
    "        return x\n",
    "    else:\n",
    "        return \" \"\n",
    "arrest = arrest.map(arrestCheck)"
   ]
  },
  {
   "cell_type": "code",
   "execution_count": 20,
   "metadata": {},
   "outputs": [
    {
     "data": {
      "text/plain": [
       "['false', 'false', 'false', 'false', 'false']"
      ]
     },
     "execution_count": 20,
     "metadata": {},
     "output_type": "execute_result"
    }
   ],
   "source": [
    "arrest.take(5)"
   ]
  },
  {
   "cell_type": "code",
   "execution_count": 21,
   "metadata": {},
   "outputs": [],
   "source": [
    "arrestCount = arrest.countByValue()"
   ]
  },
  {
   "cell_type": "code",
   "execution_count": 22,
   "metadata": {},
   "outputs": [
    {
     "data": {
      "text/plain": [
       "[('true', 1873009), ('false', 4923627), (' ', 234499)]"
      ]
     },
     "execution_count": 22,
     "metadata": {},
     "output_type": "execute_result"
    }
   ],
   "source": [
    "sorted(arrestCount.items(), reverse = True) "
   ]
  },
  {
   "cell_type": "markdown",
   "metadata": {},
   "source": [
    "# Extract date (includes time)"
   ]
  },
  {
   "cell_type": "code",
   "execution_count": 23,
   "metadata": {
    "scrolled": true
   },
   "outputs": [
    {
     "data": {
      "text/plain": [
       "['01/01/2001 11:00:00 AM',\n",
       " '10/08/2017 03:00:00 AM',\n",
       " '03/28/2017 02:00:00 PM',\n",
       " '09/09/2017 08:17:00 PM',\n",
       " '08/26/2017 10:00:00 AM']"
      ]
     },
     "execution_count": 23,
     "metadata": {},
     "output_type": "execute_result"
    }
   ],
   "source": [
    "date = crimesMapped.map(lambda x : x[2])\n",
    "date.take(5)"
   ]
  },
  {
   "cell_type": "markdown",
   "metadata": {},
   "source": [
    "# Get time only"
   ]
  },
  {
   "cell_type": "code",
   "execution_count": 24,
   "metadata": {},
   "outputs": [],
   "source": [
    "def getTime(x):\n",
    "    time = \"\"\n",
    "    for element in x[11:22]: \n",
    "        time+=element\n",
    "    return time\n"
   ]
  },
  {
   "cell_type": "code",
   "execution_count": 25,
   "metadata": {},
   "outputs": [
    {
     "data": {
      "text/plain": [
       "['11:00:00 AM', '03:00:00 AM', '02:00:00 PM', '08:17:00 PM', '10:00:00 AM']"
      ]
     },
     "execution_count": 25,
     "metadata": {},
     "output_type": "execute_result"
    }
   ],
   "source": [
    "timeOnly = date.map(lambda x : getTime(x))\n",
    "timeOnly.take(5)"
   ]
  },
  {
   "cell_type": "markdown",
   "metadata": {},
   "source": [
    "# Replace minutes and seconds with '00'"
   ]
  },
  {
   "cell_type": "code",
   "execution_count": 26,
   "metadata": {},
   "outputs": [],
   "source": [
    "def replace_str_index(text,index=0,replacement='0'):\n",
    "    return '%s%s%s'%(text[:index],replacement,text[index+1:])\n"
   ]
  },
  {
   "cell_type": "code",
   "execution_count": 27,
   "metadata": {},
   "outputs": [],
   "source": [
    "def replaceMins(x):\n",
    "    x = replace_str_index(x,3)\n",
    "    y = replace_str_index(x,4)\n",
    "    return y"
   ]
  },
  {
   "cell_type": "code",
   "execution_count": 28,
   "metadata": {},
   "outputs": [
    {
     "data": {
      "text/plain": [
       "['11:00:00 AM', '03:00:00 AM', '02:00:00 PM', '08:00:00 PM', '10:00:00 AM']"
      ]
     },
     "execution_count": 28,
     "metadata": {},
     "output_type": "execute_result"
    }
   ],
   "source": [
    "timeClean = timeOnly.map(lambda x : replaceMins(x))\n",
    "timeClean.take(5)"
   ]
  },
  {
   "cell_type": "code",
   "execution_count": 29,
   "metadata": {},
   "outputs": [],
   "source": [
    "def replaceSecs(x):\n",
    "    x = replace_str_index(x,6)\n",
    "    y = replace_str_index(x,7)\n",
    "    return y"
   ]
  },
  {
   "cell_type": "code",
   "execution_count": 30,
   "metadata": {},
   "outputs": [
    {
     "data": {
      "text/plain": [
       "['11:00:00 AM', '03:00:00 AM', '02:00:00 PM', '08:00:00 PM', '10:00:00 AM']"
      ]
     },
     "execution_count": 30,
     "metadata": {},
     "output_type": "execute_result"
    }
   ],
   "source": [
    "timeCleaner = timeClean.map(lambda x : replaceSecs(x))\n",
    "timeCleaner.take(5)"
   ]
  },
  {
   "cell_type": "markdown",
   "metadata": {},
   "source": [
    "# 5. Show which times(hour + AM/PM) are most popular for committing crimes"
   ]
  },
  {
   "cell_type": "code",
   "execution_count": 31,
   "metadata": {},
   "outputs": [],
   "source": [
    "timeCount = timeCleaner.countByValue()"
   ]
  },
  {
   "cell_type": "code",
   "execution_count": 32,
   "metadata": {},
   "outputs": [
    {
     "data": {
      "text/plain": [
       "[('12:00:00 PM', 401286),\n",
       " ('07:00:00 PM', 400255),\n",
       " ('08:00:00 PM', 398895),\n",
       " ('09:00:00 PM', 388660),\n",
       " ('12:00:00 AM', 388075),\n",
       " ('06:00:00 PM', 386564),\n",
       " ('10:00:00 PM', 383156),\n",
       " ('03:00:00 PM', 374305),\n",
       " ('05:00:00 PM', 359956),\n",
       " ('02:00:00 PM', 356227),\n",
       " ('04:00:00 PM', 353938),\n",
       " ('01:00:00 PM', 334557),\n",
       " ('11:00:00 PM', 316701),\n",
       " ('11:00:00 AM', 311519),\n",
       " ('09:00:00 AM', 302811),\n",
       " ('10:00:00 AM', 296212),\n",
       " ('08:00:00 AM', 238254),\n",
       " ('01:00:00 AM', 222650),\n",
       " ('02:00:00 AM', 186944),\n",
       " ('07:00:00 AM', 160078),\n",
       " ('03:00:00 AM', 150610),\n",
       " ('04:00:00 AM', 113564),\n",
       " ('06:00:00 AM', 111492),\n",
       " ('05:00:00 AM', 94426)]"
      ]
     },
     "execution_count": 32,
     "metadata": {},
     "output_type": "execute_result"
    }
   ],
   "source": [
    "sorted(timeCount.items(), key=lambda k_v: k_v[::-1], reverse = True)"
   ]
  },
  {
   "cell_type": "markdown",
   "metadata": {},
   "source": [
    "# Extract year & clean"
   ]
  },
  {
   "cell_type": "code",
   "execution_count": 33,
   "metadata": {},
   "outputs": [
    {
     "data": {
      "text/plain": [
       "['2001', '2017', '2017', '2017', '2017']"
      ]
     },
     "execution_count": 33,
     "metadata": {},
     "output_type": "execute_result"
    }
   ],
   "source": [
    "year = crimesMapped.map(lambda x : x[15])\n",
    "year.take(5)"
   ]
  },
  {
   "cell_type": "code",
   "execution_count": 34,
   "metadata": {},
   "outputs": [],
   "source": [
    "def yearCheck(x):\n",
    "    if (x[:2] == '20'):\n",
    "        return x\n",
    "    else:\n",
    "        return ''"
   ]
  },
  {
   "cell_type": "code",
   "execution_count": 35,
   "metadata": {},
   "outputs": [],
   "source": [
    "year = year.map(lambda x : yearCheck(x))"
   ]
  },
  {
   "cell_type": "code",
   "execution_count": 36,
   "metadata": {},
   "outputs": [
    {
     "data": {
      "text/plain": [
       "['2001', '2017', '2017', '2017', '2017']"
      ]
     },
     "execution_count": 36,
     "metadata": {},
     "output_type": "execute_result"
    }
   ],
   "source": [
    "year.take(5)"
   ]
  },
  {
   "cell_type": "code",
   "execution_count": 37,
   "metadata": {},
   "outputs": [],
   "source": [
    "yearCount = year.countByValue()"
   ]
  },
  {
   "cell_type": "markdown",
   "metadata": {},
   "source": [
    "# 6. Reproted crimes per year "
   ]
  },
  {
   "cell_type": "code",
   "execution_count": 38,
   "metadata": {},
   "outputs": [
    {
     "data": {
      "text/plain": [
       "[('2001', 469289),\n",
       " ('2002', 469191),\n",
       " ('2003', 457559),\n",
       " ('2004', 450875),\n",
       " ('2005', 435268),\n",
       " ('2006', 430990),\n",
       " ('2007', 421537),\n",
       " ('2008', 411645),\n",
       " ('2009', 379700),\n",
       " ('2010', 357072),\n",
       " ('2011', 339670),\n",
       " ('2012', 326240),\n",
       " ('2013', 297412),\n",
       " ('2014', 267553),\n",
       " ('2016', 262766),\n",
       " ('2017', 262489),\n",
       " ('2018', 261335),\n",
       " ('2015', 257603),\n",
       " ('2019', 238442),\n",
       " ('', 234499)]"
      ]
     },
     "execution_count": 38,
     "metadata": {},
     "output_type": "execute_result"
    }
   ],
   "source": [
    "sorted(yearCount.items(), key=lambda k_v: k_v[::-1], reverse = True)"
   ]
  },
  {
   "cell_type": "markdown",
   "metadata": {},
   "source": [
    "# Extract blocks"
   ]
  },
  {
   "cell_type": "code",
   "execution_count": 39,
   "metadata": {},
   "outputs": [
    {
     "data": {
      "text/plain": [
       "['016XX E 86TH PL',\n",
       " '092XX S RACINE AVE',\n",
       " '026XX W 79TH ST',\n",
       " '060XX S EBERHART AVE',\n",
       " '001XX W RANDOLPH ST']"
      ]
     },
     "execution_count": 39,
     "metadata": {},
     "output_type": "execute_result"
    }
   ],
   "source": [
    "block = crimesMapped.map(lambda x : x[3])\n",
    "block.take(5)"
   ]
  },
  {
   "cell_type": "markdown",
   "metadata": {},
   "source": [
    "# Get street only"
   ]
  },
  {
   "cell_type": "code",
   "execution_count": 40,
   "metadata": {},
   "outputs": [],
   "source": [
    "def streetOnly(x):\n",
    "    street = \"\"\n",
    "    for element in x[6::]: \n",
    "        street+=element\n",
    "    return street"
   ]
  },
  {
   "cell_type": "code",
   "execution_count": 41,
   "metadata": {},
   "outputs": [
    {
     "data": {
      "text/plain": [
       "['E 86TH PL', 'S RACINE AVE', 'W 79TH ST', 'S EBERHART AVE', 'W RANDOLPH ST']"
      ]
     },
     "execution_count": 41,
     "metadata": {},
     "output_type": "execute_result"
    }
   ],
   "source": [
    "street = block.map(lambda x : streetOnly(x))\n",
    "street.take(5)"
   ]
  },
  {
   "cell_type": "markdown",
   "metadata": {},
   "source": [
    "# Street with most reported crimes "
   ]
  },
  {
   "cell_type": "code",
   "execution_count": 42,
   "metadata": {},
   "outputs": [
    {
     "data": {
      "text/plain": [
       "[('S STATE ST', 83497),\n",
       " ('S MICHIGAN AVE', 66030),\n",
       " ('W MADISON ST', 63642),\n",
       " ('S HALSTED ST', 63617),\n",
       " ('S DR MARTIN LUTHER KING JR DR', 57646),\n",
       " ('S ASHLAND AVE', 57614),\n",
       " ('N CLARK ST', 52921),\n",
       " ('W NORTH AVE', 51823),\n",
       " ('S COTTAGE GROVE AVE', 48368),\n",
       " ('W DIVISION ST', 41127),\n",
       " ('S WESTERN AVE', 40359),\n",
       " ('N MILWAUKEE AVE', 38541),\n",
       " ('W CHICAGO AVE', 37814),\n",
       " ('S WABASH AVE', 37585),\n",
       " ('N STATE ST', 37031),\n",
       " ('S PULASKI RD', 36318),\n",
       " ('S INDIANA AVE', 35050),\n",
       " ('W JACKSON BLVD', 34625),\n",
       " ('S KEDZIE AVE', 34401),\n",
       " ('N SHERIDAN RD', 34374),\n",
       " ('N MICHIGAN AVE', 30949),\n",
       " ('N BROADWAY', 30616),\n",
       " ('S CICERO AVE', 30236),\n",
       " ('W MONROE ST', 30100),\n",
       " ('W WASHINGTON BLVD', 29907),\n",
       " ('W ROOSEVELT RD', 29448),\n",
       " ('W BELMONT AVE', 28478),\n",
       " ('S PRAIRIE AVE', 28414),\n",
       " ('W 63RD ST', 28021),\n",
       " ('S RACINE AVE', 27846),\n",
       " ('W FULLERTON AVE', 27648),\n",
       " ('N WESTERN AVE', 26988),\n",
       " ('S WENTWORTH AVE', 26822),\n",
       " ('W LAKE ST', 26733),\n",
       " ('S STONY ISLAND AVE', 26559),\n",
       " ('S MORGAN ST', 26459),\n",
       " ('N PULASKI RD', 26200),\n",
       " ('S LAFLIN ST', 25893),\n",
       " ('W ADAMS ST', 25278),\n",
       " ('W IRVING PARK RD', 24822),\n",
       " ('N CENTRAL AVE', 24036),\n",
       " ('S MAY ST', 23977),\n",
       " ('W HARRISON ST', 23505),\n",
       " ('W CERMAK RD', 23039),\n",
       " ('S UNION AVE', 22895),\n",
       " ('S CALUMET AVE', 22774),\n",
       " ('S DAMEN AVE', 22770),\n",
       " ('S WOOD ST', 22486),\n",
       " ('S MARSHFIELD AVE', 22236),\n",
       " ('W VAN BUREN ST', 21942),\n",
       " ('S PAULINA ST', 21862),\n",
       " ('S CALIFORNIA AVE', 21758),\n",
       " ('N HALSTED ST', 21678),\n",
       " ('N CICERO AVE', 21379),\n",
       " ('E 79TH ST', 21070),\n",
       " ('S EMERALD AVE', 20798),\n",
       " ('N ASHLAND AVE', 20591),\n",
       " ('S CARPENTER ST', 20557),\n",
       " ('W 79TH ST', 20551),\n",
       " ('S LOWE AVE', 20407),\n",
       " ('S GREEN ST', 20233),\n",
       " ('S ABERDEEN ST', 20198),\n",
       " ('S SANGAMON ST', 20103),\n",
       " ('W ADDISON ST', 20078),\n",
       " ('S PEORIA ST', 19921),\n",
       " ('S ARCHER AVE', 19832),\n",
       " ('S BISHOP ST', 19436),\n",
       " ('N LINCOLN AVE', 19410),\n",
       " ('W GRAND AVE', 19372),\n",
       " ('S THROOP ST', 19065),\n",
       " ('S ELLIS AVE', 18801),\n",
       " ('W LAWRENCE AVE', 18668),\n",
       " ('W OHARE ST', 18565),\n",
       " ('W 87TH ST', 18468),\n",
       " ('N KEDZIE AVE', 18457),\n",
       " ('S PRINCETON AVE', 18445),\n",
       " ('S JUSTINE ST', 18218),\n",
       " ('S HERMITAGE AVE', 17317),\n",
       " ('S VINCENNES AVE', 17102),\n",
       " ('W DIVERSEY AVE', 17101),\n",
       " ('S SOUTH SHORE DR', 16805),\n",
       " ('S ROCKWELL ST', 16759),\n",
       " ('N ELSTON AVE', 16642),\n",
       " ('S VERNON AVE', 16606),\n",
       " ('N LARAMIE AVE', 16399),\n",
       " ('W ARMITAGE AVE', 16305),\n",
       " ('S RHODES AVE', 16300),\n",
       " ('W HURON ST', 16190),\n",
       " ('N DAMEN AVE', 16148),\n",
       " ('S WOLCOTT AVE', 16033),\n",
       " ('S WALLACE ST', 16007),\n",
       " ('S LANGLEY AVE', 15974),\n",
       " ('S STEWART AVE', 15756),\n",
       " ('S HOMAN AVE', 15362),\n",
       " ('S HONORE ST', 15266),\n",
       " ('N CALIFORNIA AVE', 15106),\n",
       " ('S DREXEL AVE', 14815),\n",
       " ('S ST LAWRENCE AVE', 14740),\n",
       " ('S WINCHESTER AVE', 14695),\n",
       " ('S JEFFERY BLVD', 14617),\n",
       " ('S ARTESIAN AVE', 14558),\n",
       " ('S INGLESIDE AVE', 14536),\n",
       " ('W 59TH ST', 14321),\n",
       " ('W CONGRESS PKWY', 14287),\n",
       " ('S PERRY AVE', 14090),\n",
       " ('S CAMPBELL AVE', 13952),\n",
       " ('W 47TH ST', 13883),\n",
       " ('S PARNELL AVE', 13770),\n",
       " ('S ADA ST', 13692),\n",
       " ('W GARFIELD BLVD', 13529),\n",
       " ('W AUGUSTA BLVD', 13487),\n",
       " ('S LOOMIS BLVD', 13374),\n",
       " ('N HAMLIN AVE', 13367),\n",
       " ('S EXCHANGE AVE', 13232),\n",
       " ('W LEXINGTON ST', 13231),\n",
       " ('S ELIZABETH ST', 13174),\n",
       " ('S ALBANY AVE', 13122),\n",
       " ('S FEDERAL ST', 13101),\n",
       " ('S LA SALLE ST', 13082),\n",
       " ('S EBERHART AVE', 12991),\n",
       " ('N KENMORE AVE', 12939),\n",
       " ('N SPRINGFIELD AVE', 12892),\n",
       " ('N MONTICELLO AVE', 12874),\n",
       " ('S LAFAYETTE AVE', 12840),\n",
       " ('S WASHTENAW AVE', 12834),\n",
       " ('S CHAMPLAIN AVE', 12832),\n",
       " ('W MAYPOLE AVE', 12804),\n",
       " ('N LAWNDALE AVE', 12769),\n",
       " ('E 75TH ST', 12760),\n",
       " ('E 71ST ST', 12650),\n",
       " ('N AVERS AVE', 12626),\n",
       " ('N CENTRAL PARK AVE', 12611),\n",
       " ('W POLK ST', 12568),\n",
       " ('W MONTROSE AVE', 12535),\n",
       " ('W WILSON AVE', 12501),\n",
       " ('W OHIO ST', 12465),\n",
       " ('S MARYLAND AVE', 12304),\n",
       " ('N KIMBALL AVE', 12241),\n",
       " ('N PAULINA ST', 12148),\n",
       " ('S EVANS AVE', 12136),\n",
       " ('W 95TH ST', 12135),\n",
       " ('S CANAL ST', 12126),\n",
       " ('S TROY ST', 12032),\n",
       " ('W MARQUETTE RD', 11995),\n",
       " ('S ST LOUIS AVE', 11908),\n",
       " ('S MAPLEWOOD AVE', 11862),\n",
       " ('W FLOURNOY ST', 11856),\n",
       " ('W GLADYS AVE', 11853),\n",
       " ('S SPAULDING AVE', 11827),\n",
       " ('S FAIRFIELD AVE', 11698),\n",
       " ('W 71ST ST', 11538),\n",
       " ('S NORMAL AVE', 11456),\n",
       " ('N ST LOUIS AVE', 11415),\n",
       " ('N LECLAIRE AVE', 11364),\n",
       " ('N DEARBORN ST', 11167),\n",
       " ('W WILCOX ST', 11147),\n",
       " ('N LOCKWOOD AVE', 11127),\n",
       " ('S WHIPPLE ST', 11083),\n",
       " ('N RIDGEWAY AVE', 11024),\n",
       " ('S DEARBORN ST', 11009),\n",
       " ('W ERIE ST', 10906),\n",
       " ('N CLYBOURN AVE', 10902),\n",
       " ('S EGGLESTON AVE', 10849),\n",
       " ('N SPAULDING AVE', 10844),\n",
       " ('S KARLOV AVE', 10822),\n",
       " ('W FULTON ST', 10794),\n",
       " ('S COMMERCIAL AVE', 10772),\n",
       " ('S KOSTNER AVE', 10763),\n",
       " ('E 87TH ST', 10583),\n",
       " ('S KINGSTON AVE', 10533),\n",
       " ('N HARDING AVE', 10500),\n",
       " ('S CHRISTIANA AVE', 10465),\n",
       " ('S WOODLAWN AVE', 10204),\n",
       " ('S SPRINGFIELD AVE', 10203),\n",
       " ('N WINTHROP AVE', 10201),\n",
       " ('N LONG AVE', 10199),\n",
       " ('S WELLS ST', 10063),\n",
       " ('S DREXEL BLVD', 10056),\n",
       " ('S YALE AVE', 10055),\n",
       " ('S GREENWOOD AVE', 10042),\n",
       " ('S HOYNE AVE', 9988),\n",
       " ('N WELLS ST', 9979),\n",
       " ('S CENTRAL PARK AVE', 9960),\n",
       " ('N DRAKE AVE', 9919),\n",
       " ('S COLFAX AVE', 9868),\n",
       " ('S LAWNDALE AVE', 9821),\n",
       " ('N LAKE SHORE DR', 9729),\n",
       " ('S TALMAN AVE', 9706),\n",
       " ('S SAWYER AVE', 9643),\n",
       " ('S SACRAMENTO AVE', 9549),\n",
       " ('N PARKSIDE AVE', 9498),\n",
       " ('S LAKE PARK AVE', 9491),\n",
       " ('S DORCHESTER AVE', 9482),\n",
       " ('S EAST END AVE', 9458),\n",
       " ('N ROCKWELL ST', 9402),\n",
       " ('W DEVON AVE', 9398),\n",
       " ('W HOWARD ST', 9345),\n",
       " ('N LAVERGNE AVE', 9333),\n",
       " ('N PINE AVE', 9326),\n",
       " ('W SUPERIOR ST', 9297),\n",
       " ('W 26TH ST', 9253),\n",
       " ('W OGDEN AVE', 9232),\n",
       " ('W THOMAS ST', 9221),\n",
       " ('S LOOMIS ST', 9124),\n",
       " ('S KEELER AVE', 9066),\n",
       " ('W 51ST ST', 9054),\n",
       " ('N KEELER AVE', 9007),\n",
       " ('W HUBBARD ST', 8984),\n",
       " ('W 111TH ST', 8967),\n",
       " ('W IOWA ST', 8956),\n",
       " ('N FRANCISCO AVE', 8919),\n",
       " ('W POTOMAC AVE', 8904),\n",
       " ('N SHEFFIELD AVE', 8871),\n",
       " ('S HARVARD AVE', 8862),\n",
       " ('S CORNELL AVE', 8819),\n",
       " ('W 69TH ST', 8755),\n",
       " ('W WRIGHTWOOD AVE', 8749),\n",
       " ('N HOYNE AVE', 8682),\n",
       " ('S FRANCISCO AVE', 8642),\n",
       " ('S PHILLIPS AVE', 8577),\n",
       " ('W FOSTER AVE', 8473),\n",
       " ('W 64TH ST', 8448),\n",
       " ('S MERRILL AVE', 8354),\n",
       " ('S RICHMOND ST', 8338),\n",
       " ('N LEAVITT ST', 8259),\n",
       " ('S BLACKSTONE AVE', 8252),\n",
       " ('S SEELEY AVE', 8236),\n",
       " ('S TRUMBULL AVE', 8234),\n",
       " ('W ARTHINGTON ST', 8206),\n",
       " ('S NORMAL BLVD', 8197),\n",
       " ('W 103RD ST', 8183),\n",
       " ('S COLES AVE', 8176),\n",
       " ('W WABANSIA AVE', 8125),\n",
       " ('N MASON AVE', 8100),\n",
       " ('W GRENSHAW ST', 8088),\n",
       " ('S CRANDON AVE', 8086),\n",
       " ('E 47TH ST', 8065),\n",
       " ('N CAMPBELL AVE', 8046),\n",
       " ('W ROSCOE ST', 8040),\n",
       " ('N WASHTENAW AVE', 8038),\n",
       " ('W WEST END AVE', 8035),\n",
       " ('S ESSEX AVE', 8032),\n",
       " ('S YATES BLVD', 7919),\n",
       " ('W RANDOLPH ST', 7853),\n",
       " ('W CRYSTAL ST', 7839),\n",
       " ('S MOZART ST', 7836),\n",
       " ('N KOSTNER AVE', 7828),\n",
       " ('S CLAREMONT AVE', 7816),\n",
       " ('W DOUGLAS BLVD', 7795),\n",
       " ('E 95TH ST', 7764),\n",
       " ('S KILDARE AVE', 7759),\n",
       " ('N MENARD AVE', 7759),\n",
       " ('N KARLOV AVE', 7714),\n",
       " ('W 18TH ST', 7678),\n",
       " ('S ESCANABA AVE', 7659),\n",
       " ('N MOZART ST', 7632),\n",
       " ('S CONSTANCE AVE', 7594),\n",
       " ('N LATROBE AVE', 7590),\n",
       " ('W WALTON ST', 7574),\n",
       " ('S HAMLIN AVE', 7559),\n",
       " ('N LEAMINGTON AVE', 7530),\n",
       " ('W WARREN BLVD', 7524),\n",
       " ('N SAWYER AVE', 7519),\n",
       " ('N LA SALLE DR', 7489),\n",
       " ('S OGLESBY AVE', 7479),\n",
       " ('N ALBANY AVE', 7472),\n",
       " ('S OAKLEY AVE', 7465),\n",
       " ('S PAXTON AVE', 7446),\n",
       " ('N GREENVIEW AVE', 7416),\n",
       " ('N LARRABEE ST', 7345),\n",
       " ('N HARLEM AVE', 7328),\n",
       " ('N LOREL AVE', 7325),\n",
       " ('W LE MOYNE ST', 7270),\n",
       " ('W FILLMORE ST', 7242),\n",
       " ('S HARDING AVE', 7240),\n",
       " ('S AVERS AVE', 7233),\n",
       " ('W 76TH ST', 7222),\n",
       " ('N KEYSTONE AVE', 7199),\n",
       " ('S KOMENSKY AVE', 7115),\n",
       " ('S SAGINAW AVE', 7046),\n",
       " ('S KEDVALE AVE', 6959),\n",
       " ('W WELLINGTON AVE', 6956),\n",
       " ('W HIRSCH ST', 6943),\n",
       " ('N SEDGWICK ST', 6891),\n",
       " ('W BARRY AVE', 6880),\n",
       " ('S CLYDE AVE', 6864),\n",
       " ('N WOLCOTT AVE', 6851),\n",
       " ('S MARQUETTE AVE', 6826),\n",
       " ('W BRYN MAWR AVE', 6817),\n",
       " ('S KOLIN AVE', 6812),\n",
       " ('N KILDARE AVE', 6812),\n",
       " ('S BURLEY AVE', 6729),\n",
       " ('E 103RD ST', 6705),\n",
       " ('S KIMBARK AVE', 6672),\n",
       " ('S KENWOOD AVE', 6671),\n",
       " ('W 55TH ST', 6644),\n",
       " ('N LOTUS AVE', 6641),\n",
       " ('S DRAKE AVE', 6538),\n",
       " ('N LAMON AVE', 6524),\n",
       " ('W CORTLAND ST', 6486),\n",
       " ('W 16TH ST', 6483),\n",
       " ('E GRAND AVE', 6444),\n",
       " ('N TROY ST', 6437),\n",
       " ('W DIVERSEY PKWY', 6427),\n",
       " ('W BELDEN AVE', 6417),\n",
       " ('N MAYFIELD AVE', 6402),\n",
       " ('W 35TH ST', 6372),\n",
       " ('S MICHIGAN AV', 6342),\n",
       " ('N RICHMOND ST', 6317),\n",
       " ('N AUSTIN AVE', 6292),\n",
       " ('S UNIVERSITY AVE', 6287),\n",
       " ('S MILLARD AVE', 6253),\n",
       " ('S MUSKEGON AVE', 6226),\n",
       " ('W TAYLOR ST', 6192),\n",
       " ('W MELROSE ST', 6190),\n",
       " ('E 67TH ST', 6161),\n",
       " ('W 61ST ST', 6160),\n",
       " ('S CHAPPEL AVE', 6128),\n",
       " ('W CULLERTON ST', 6127),\n",
       " ('W 115TH ST', 6062),\n",
       " ('S RIDGELAND AVE', 6053),\n",
       " ('S SOUTH CHICAGO AVE', 5990),\n",
       " ('W CORTEZ ST', 5970),\n",
       " ('W 19TH ST', 5953),\n",
       " ('W CORNELIA AVE', 5946),\n",
       " ('W 13TH ST', 5922),\n",
       " ('W SCHOOL ST', 5905),\n",
       " ('W 21ST ST', 5882),\n",
       " ('E 83RD ST', 5868),\n",
       " ('N ARTESIAN AVE', 5861),\n",
       " ('S BENNETT AVE', 5837),\n",
       " ('W GEORGE ST', 5810),\n",
       " ('W FERDINAND ST', 5781),\n",
       " ('N NARRAGANSETT AVE', 5758),\n",
       " ('W WALNUT ST', 5745),\n",
       " ('N HOMAN AVE', 5727),\n",
       " ('E 63RD ST', 5712),\n",
       " ('N KILBOURN AVE', 5664),\n",
       " ('N MAPLEWOOD AVE', 5654),\n",
       " ('W DICKENS AVE', 5653),\n",
       " ('N KEDVALE AVE', 5648),\n",
       " ('S TRIPP AVE', 5636),\n",
       " ('W LELAND AVE', 5609),\n",
       " ('S INDEPENDENCE BLVD', 5606),\n",
       " ('N WALLER AVE', 5578),\n",
       " ('W 31ST ST', 5553),\n",
       " ('S CLARK ST', 5544),\n",
       " ('S KILBOURN AVE', 5535),\n",
       " ('N HUDSON AVE', 5535),\n",
       " ('W GRACE ST', 5528),\n",
       " ('W TOUHY AVE', 5523),\n",
       " ('W ALTGELD ST', 5509),\n",
       " ('S HARPER AVE', 5499),\n",
       " ('N LAWLER AVE', 5475),\n",
       " ('W EVERGREEN AVE', 5468),\n",
       " ('N WHIPPLE ST', 5455),\n",
       " ('W PALMER ST', 5421),\n",
       " ('E RANDOLPH ST', 5411),\n",
       " ('W 72ND ST', 5382),\n",
       " ('E 72ND ST', 5364),\n",
       " ('N HERMITAGE AVE', 5327),\n",
       " ('N CHRISTIANA AVE', 5312),\n",
       " ('W PERSHING RD', 5275),\n",
       " ('N MARINE DR', 5262),\n",
       " ('N TALMAN AVE', 5254),\n",
       " ('W QUINCY ST', 5238),\n",
       " ('S RIDGEWAY AVE', 5236),\n",
       " ('W 80TH ST', 5222),\n",
       " ('W ARGYLE ST', 5210),\n",
       " ('S HOUSTON AVE', 5199),\n",
       " ('W 65TH ST', 5190),\n",
       " ('W SUNNYSIDE AVE', 5180),\n",
       " ('W MORSE AVE', 5168),\n",
       " ('E 93RD ST', 5144),\n",
       " ('N MAGNOLIA AVE', 5111),\n",
       " ('N MONITOR AVE', 5097),\n",
       " ('W 62ND ST', 5084),\n",
       " ('W TERMINAL ST', 5081),\n",
       " ('N CLAREMONT AVE', 5074),\n",
       " ('E PERSHING RD', 5064),\n",
       " ('W 21ST PL', 5036),\n",
       " ('N SACRAMENTO AVE', 5026),\n",
       " ('W 66TH ST', 5011),\n",
       " ('S ASHLAND AV', 5003),\n",
       " ('W FIFTH AVE', 4971),\n",
       " ('E OHIO ST', 4966),\n",
       " ('S EWING AVE', 4921),\n",
       " ('W 83RD ST', 4906),\n",
       " ('N OAKLEY AVE', 4897),\n",
       " ('W PETERSON AVE', 4867),\n",
       " ('E 51ST ST', 4860),\n",
       " ('S LEAVITT ST', 4835),\n",
       " ('S LUELLA AVE', 4817),\n",
       " ('N GLENWOOD AVE', 4815),\n",
       " ('W NORTH AV', 4760),\n",
       " ('N WABASH AVE', 4755),\n",
       " ('S KENNETH AVE', 4753),\n",
       " ('S HAMILTON AVE', 4738),\n",
       " ('S CENTRAL AVE', 4735),\n",
       " ('E 78TH ST', 4718),\n",
       " ('S DOBSON AVE', 4713),\n",
       " ('S EUCLID AVE', 4702),\n",
       " ('N FAIRFIELD AVE', 4686),\n",
       " ('W WASHINGTON ST', 4678),\n",
       " ('N ORLEANS ST', 4673),\n",
       " ('S AVENUE L', 4634),\n",
       " ('N LINDER AVE', 4612),\n",
       " ('S KILPATRICK AVE', 4602),\n",
       " ('N BURLING ST', 4586),\n",
       " ('W WAVELAND AVE', 4561),\n",
       " ('N BOSWORTH AVE', 4543),\n",
       " ('E 53RD ST', 4543),\n",
       " ('N RACINE AVE', 4534),\n",
       " ('S WESTERN AV', 4508),\n",
       " ('N WINCHESTER AVE', 4505),\n",
       " ('S BUFFALO AVE', 4501),\n",
       " ('E 73RD ST', 4497),\n",
       " ('N TRIPP AVE', 4476),\n",
       " ('W KINZIE ST', 4475),\n",
       " ('E 80TH ST', 4457),\n",
       " ('E WACKER DR', 4447),\n",
       " ('W WEBSTER AVE', 4442),\n",
       " ('E 70TH ST', 4414),\n",
       " ('S BRANDON AVE', 4411),\n",
       " ('W 119TH ST', 4405),\n",
       " ('N RAVENSWOOD AVE', 4362),\n",
       " ('N MOBILE AVE', 4340),\n",
       " ('E 111TH ST', 4338),\n",
       " ('W 81ST ST', 4332),\n",
       " ('N KINGSBURY ST', 4321),\n",
       " ('E 61ST ST', 4320),\n",
       " ('W 15TH ST', 4286),\n",
       " ('S DANTE AVE', 4231),\n",
       " ('W CARROLL AVE', 4219),\n",
       " ('S MANISTEE AVE', 4219),\n",
       " ('E 69TH ST', 4210),\n",
       " ('E 76TH ST', 4207),\n",
       " ('S BURNHAM AVE', 4198),\n",
       " ('W SCHUBERT AVE', 4189),\n",
       " ('W 60TH ST', 4185),\n",
       " ('S CREGIER AVE', 4168),\n",
       " ('W RICE ST', 4150),\n",
       " ('E 81ST ST', 4138),\n",
       " ('S AVENUE M', 4122),\n",
       " ('N LA SALLE ST', 4116),\n",
       " ('W AINSLIE ST', 4110),\n",
       " ('N SOUTHPORT AVE', 4098),\n",
       " ('N MARSHFIELD AVE', 4068),\n",
       " ('E GARFIELD BLVD', 4062),\n",
       " ('W BYRON ST', 4061),\n",
       " ('N RUSH ST', 4044),\n",
       " ('W HADDON AVE', 4032),\n",
       " ('S LAVERGNE AVE', 4024),\n",
       " ('E 82ND ST', 4022),\n",
       " ('W 78TH ST', 4013),\n",
       " ('W LUNT AVE', 3992),\n",
       " ('S KING DR', 3991),\n",
       " ('N MILWAUKEE AV', 3957),\n",
       " ('S BELL AVE', 3953),\n",
       " ('W 56TH ST', 3950),\n",
       " ('W 77TH ST', 3932),\n",
       " ('W 58TH ST', 3932),\n",
       " ('N KILPATRICK AVE', 3926),\n",
       " ('E CHICAGO AVE', 3923),\n",
       " ('W ONTARIO ST', 3916),\n",
       " ('W PRATT BLVD', 3905),\n",
       " ('E 68TH ST', 3884),\n",
       " ('N TRUMBULL AVE', 3876),\n",
       " ('W HENDERSON ST', 3861),\n",
       " ('W 57TH ST', 3856),\n",
       " ('W OAKDALE AVE', 3846),\n",
       " ('W 68TH ST', 3832),\n",
       " ('S CICERO AV', 3813),\n",
       " ('N BERNARD ST', 3797),\n",
       " ('E 35TH ST', 3777),\n",
       " ('N CLEVELAND AVE', 3762),\n",
       " ('W GRANVILLE AVE', 3724),\n",
       " ('W BELLE PLAINE AVE', 3680),\n",
       " ('S BLUE ISLAND AVE', 3667),\n",
       " ('N BELL AVE', 3656),\n",
       " ('N KENNETH AVE', 3654),\n",
       " ('S EDBROOKE AVE', 3647),\n",
       " ('N LUNA AVE', 3646),\n",
       " ('S BALTIMORE AVE', 3640),\n",
       " ('W CHICAGO AV', 3637),\n",
       " ('W 70TH ST', 3626),\n",
       " ('N ORCHARD ST', 3572),\n",
       " ('W GREENLEAF AVE', 3561),\n",
       " ('E 89TH ST', 3560),\n",
       " ('W BERWYN AVE', 3556),\n",
       " ('E 77TH ST', 3554),\n",
       " ('W CULLOM AVE', 3548),\n",
       " ('W FLETCHER ST', 3534),\n",
       " ('W 25TH ST', 3533),\n",
       " ('N RIDGE BLVD', 3525),\n",
       " ('W ESTES AVE', 3522),\n",
       " ('S SHIELDS AVE', 3495),\n",
       " ('N SEELEY AVE', 3491),\n",
       " ('S CALIFORNIA BLVD', 3478),\n",
       " ('E 91ST ST', 3472),\n",
       " ('N MC VICKER AVE', 3433),\n",
       " ('S WABASH AV', 3423),\n",
       " ('W BERTEAU AVE', 3397),\n",
       " ('N WOOD ST', 3388),\n",
       " ('W RACE AVE', 3384),\n",
       " ('N MEADE AVE', 3376),\n",
       " ('S INDIANA AV', 3371),\n",
       " ('W NEWPORT AVE', 3367),\n",
       " ('S CORLISS AVE', 3366),\n",
       " ('W BLOOMINGDALE AVE', 3361),\n",
       " ('S FOREST AVE', 3332),\n",
       " ('W 50TH ST', 3331),\n",
       " ('N LOWELL AVE', 3315),\n",
       " ('W 23RD ST', 3304),\n",
       " ('E BROWNING AVE', 3304),\n",
       " ('N AUSTIN BLVD', 3303),\n",
       " ('W FARWELL AVE', 3279),\n",
       " ('E 74TH ST', 3243),\n",
       " ('N FRANKLIN ST', 3236),\n",
       " ('N MELVINA AVE', 3234),\n",
       " ('W 64TH PL', 3228),\n",
       " ('S KEDZIE AV', 3221),\n",
       " ('E 43RD ST', 3208),\n",
       " ('N MARMORA AVE', 3195),\n",
       " ('W 24TH ST', 3160),\n",
       " ('W NELSON ST', 3139),\n",
       " ('N MAJOR AVE', 3123),\n",
       " ('W 74TH ST', 3099),\n",
       " ('E 92ND ST', 3096),\n",
       " ('S PRAIRIE AV', 3077),\n",
       " ('W DEMING PL', 3058),\n",
       " ('E MARQUETTE RD', 3032),\n",
       " ('N LAKEWOOD AVE', 3002),\n",
       " ('W EDDY ST', 2991),\n",
       " ('W FULLERTON AV', 2989),\n",
       " ('W FRANKLIN BLVD', 2986),\n",
       " ('S LARAMIE AVE', 2984),\n",
       " ('N WESTERN AV', 2951),\n",
       " ('N CLARENDON AVE', 2934),\n",
       " ('W 107TH ST', 2933),\n",
       " ('W 73RD ST', 2929),\n",
       " ('E ONTARIO ST', 2929),\n",
       " ('N NAGLE AVE', 2926),\n",
       " ('W BELMONT AV', 2924),\n",
       " ('W HIGGINS AVE', 2922),\n",
       " ('N MANGO AVE', 2919),\n",
       " ('N NORTHWEST HWY', 2916),\n",
       " ('S AVENUE N', 2907),\n",
       " ('S WENTWORTH AV', 2895),\n",
       " ('W 112TH ST', 2892),\n",
       " ('N MOODY AVE', 2875),\n",
       " ('S YATES AVE', 2869),\n",
       " ('S WACKER DR', 2868),\n",
       " ('S CLINTON ST', 2860),\n",
       " ('E 62ND ST', 2858),\n",
       " ('E HURON ST', 2844),\n",
       " ('W LOGAN BLVD', 2842),\n",
       " ('S SACRAMENTO BLVD', 2839),\n",
       " ('W EASTWOOD AVE', 2825),\n",
       " ('W FULTON BLVD', 2815),\n",
       " ('S JEFFERSON ST', 2807),\n",
       " ('W ARTHUR AVE', 2802),\n",
       " ('W DAKIN ST', 2795),\n",
       " ('W MC LEAN AVE', 2781),\n",
       " ('N KEATING AVE', 2781),\n",
       " ('N SACRAMENTO BLVD', 2769),\n",
       " ('S TORRENCE AVE', 2765),\n",
       " ('N CLIFTON AVE', 2751),\n",
       " ('W KAMERLING AVE', 2749),\n",
       " ('W 82ND ST', 2735),\n",
       " ('W WOLFRAM ST', 2733),\n",
       " ('W JARVIS AVE', 2730),\n",
       " ('E 55TH ST', 2723),\n",
       " ('W 63RD PL', 2719),\n",
       " ('S MACKINAW AVE', 2719),\n",
       " ('S AVALON AVE', 2714),\n",
       " ('W OAK ST', 2708),\n",
       " ('N MASSASOIT AVE', 2702),\n",
       " ('N OAK PARK AVE', 2701),\n",
       " ('N FREMONT ST', 2691),\n",
       " ('W 109TH ST', 2688),\n",
       " ('S CHURCH ST', 2679),\n",
       " ('N MICHIGAN AV', 2677),\n",
       " ('S KEATING AVE', 2667),\n",
       " ('S HOXIE AVE', 2660),\n",
       " ('S CALUMET AV', 2659),\n",
       " ('W CONCORD PL', 2626),\n",
       " ('W 110TH PL', 2603),\n",
       " ('N LAPORTE AVE', 2587),\n",
       " ('W 14TH ST', 2583),\n",
       " ('W BALMORAL AVE', 2578),\n",
       " ('W SHAKESPEARE AVE', 2574),\n",
       " ('S AVENUE O', 2573),\n",
       " ('S BENSLEY AVE', 2568),\n",
       " ('W LYNDALE ST', 2544),\n",
       " ('W 43RD ST', 2535),\n",
       " ('W 110TH ST', 2533),\n",
       " ('S RACINE AV', 2533),\n",
       " ('W DIVERSEY AV', 2527),\n",
       " ('W MONTANA ST', 2524),\n",
       " ('N NORMANDY AVE', 2510),\n",
       " ('W 18TH PL', 2499),\n",
       " ('W CARMEN AVE', 2497),\n",
       " ('N CUMBERLAND AVE', 2493),\n",
       " ('S AVENUE J', 2489),\n",
       " ('W 112TH PL', 2488),\n",
       " ('N WAYNE AVE', 2481),\n",
       " ('N NEVA AVE', 2472),\n",
       " ('W WINONA ST', 2448),\n",
       " ('N NEWCASTLE AVE', 2430),\n",
       " ('E ROOSEVELT RD', 2430),\n",
       " ('S KOLMAR AVE', 2419),\n",
       " ('W 54TH ST', 2414),\n",
       " ('E 46TH ST', 2411),\n",
       " ('N HONORE ST', 2405),\n",
       " ('W FARGO AVE', 2394),\n",
       " ('N CAMBRIDGE AVE', 2387),\n",
       " ('N CICERO AV', 2382),\n",
       " ('E ILLINOIS ST', 2380),\n",
       " ('W ELM ST', 2378),\n",
       " ('W 87 ST', 2371),\n",
       " ('W 38TH ST', 2367),\n",
       " ('S LEAMINGTON AVE', 2367),\n",
       " ('W 63 ST', 2354),\n",
       " ('W PATTERSON AVE', 2349),\n",
       " ('N PINE GROVE AVE', 2344),\n",
       " ('W 85TH ST', 2336),\n",
       " ('N STOCKTON DR', 2330),\n",
       " ('W DRUMMOND PL', 2327),\n",
       " ('N RIDGE AVE', 2326),\n",
       " ('S STONY ISLAND AV', 2314),\n",
       " ('W 52ND ST', 2311),\n",
       " ('N CENTRAL AV', 2311),\n",
       " ('W HASTINGS ST', 2310),\n",
       " ('N HUMBOLDT BLVD', 2305),\n",
       " ('S FORRESTVILLE AVE', 2296),\n",
       " ('S AVENUE H', 2296),\n",
       " ('E JACKSON BLVD', 2290),\n",
       " ('E 106TH ST', 2281),\n",
       " ('N ASHLAND AV', 2275),\n",
       " ('N NOBLE ST', 2272),\n",
       " ('W WASHBURNE AVE', 2269),\n",
       " ('N MOHAWK ST', 2258),\n",
       " ('W JONQUIL TER', 2256),\n",
       " ('S MASON AVE', 2254),\n",
       " ('S KNOX AVE', 2253),\n",
       " ('S WESTERN BLVD', 2246),\n",
       " ('E 132ND ST', 2243),\n",
       " ('N LA CROSSE AVE', 2237),\n",
       " ('W BIRCHWOOD AVE', 2235),\n",
       " ('E 133RD ST', 2232),\n",
       " ('W CATALPA AVE', 2211),\n",
       " ('S COTTAGE GROVE AV', 2211),\n",
       " ('W 111TH PL', 2204),\n",
       " ('E 131ST ST', 2203),\n",
       " ('E 50TH ST', 2201),\n",
       " ('W THORNDALE AVE', 2198),\n",
       " ('W CHESTNUT ST', 2198),\n",
       " ('W 104TH ST', 2193),\n",
       " ('S LONGWOOD DR', 2189),\n",
       " ('E 90TH ST', 2188),\n",
       " ('E 104TH ST', 2182),\n",
       " ('W 38TH PL', 2178),\n",
       " ('S LAMON AVE', 2176),\n",
       " ('W GUNNISON ST', 2173),\n",
       " ('W 53RD ST', 2173),\n",
       " ('W 45TH ST', 2172),\n",
       " ('W 17TH ST', 2172),\n",
       " ('W PARKER AVE', 2171),\n",
       " ('S LOTUS AVE', 2169),\n",
       " ('W ROSEMONT AVE', 2166),\n",
       " ('E 60TH ST', 2165),\n",
       " ('N ROGERS AVE', 2150),\n",
       " ('S UNION AV', 2149),\n",
       " ('N ASHLAND BLVD', 2146),\n",
       " ('N NEW ENGLAND AVE', 2140),\n",
       " ('W 33RD ST', 2136),\n",
       " ('W 105TH ST', 2134),\n",
       " ('N NATCHEZ AVE', 2131),\n",
       " ('W WINNEMAC AVE', 2129),\n",
       " ('S LOWE AV', 2126),\n",
       " ('N NORDICA AVE', 2126),\n",
       " ('W MEDILL AVE', 2124),\n",
       " ('W LAWRENCE AV', 2122),\n",
       " ('N CANNON DR', 2116),\n",
       " ('S CALIFORNIA AV', 2101),\n",
       " ('W 79 ST', 2099),\n",
       " ('E 115TH ST', 2097),\n",
       " ('W CHASE AVE', 2095),\n",
       " ('W ARMITAGE AV', 2095),\n",
       " ('E MONROE ST', 2091),\n",
       " ('S DOTY AVE E', 2090),\n",
       " ('W CORCORAN PL', 2078),\n",
       " ('N DAYTON ST', 2076),\n",
       " ('S MARSHFIELD AV', 2063),\n",
       " ('N OAKLEY BLVD', 2054),\n",
       " ('W HOLLYWOOD AVE', 2053),\n",
       " ('S HYDE PARK BLVD', 2051),\n",
       " ('N LINCOLN AV', 2045),\n",
       " ('W WASHINGTON BL', 2044),\n",
       " ('S COTTAGE GROVE', 2041),\n",
       " ('N MALDEN ST', 2037),\n",
       " ('N KOLMAR AVE', 2036),\n",
       " ('W 109TH PL', 2029),\n",
       " ('S ARCHER AV', 2019),\n",
       " ('W PIERCE AVE', 2013),\n",
       " ('W SUMMERDALE AVE', 2008),\n",
       " ('W NORTH SHORE AVE', 2005),\n",
       " ('W 48TH ST', 2005),\n",
       " ('S DAMEN AV', 2000),\n",
       " ('W 116TH ST', 1999),\n",
       " ('S CALHOUN AVE', 1993),\n",
       " ('N SEMINARY AVE', 1985),\n",
       " ('S ELLIS AV', 1981),\n",
       " ('W WACKER DR', 1977),\n",
       " ('N HAMILTON AVE', 1970),\n",
       " ('W LITHUANIAN PLAZA CT', 1964),\n",
       " ('S LAKE SHORE DR E', 1957),\n",
       " ('W WARWICK AVE', 1953),\n",
       " ('E LAKE ST', 1949),\n",
       " ('E DELAWARE PL', 1943),\n",
       " ('S GILES AVE', 1942),\n",
       " ('W GRAND AV', 1936),\n",
       " ('E 84TH ST', 1921),\n",
       " ('E 114TH ST', 1918),\n",
       " ('W 61ST PL', 1917),\n",
       " ('S PARKSIDE AVE', 1910),\n",
       " ('N EAST RIVER RD', 1909),\n",
       " ('E HYDE PARK BLVD', 1909),\n",
       " ('E 71ST PL', 1909),\n",
       " ('S HALE AVE', 1906),\n",
       " ('N KEDZIE AV', 1898),\n",
       " ('W 108TH PL', 1895),\n",
       " ('W 118TH ST', 1890),\n",
       " ('E CHESTNUT ST', 1885),\n",
       " ('S DAUPHIN AVE', 1883),\n",
       " ('W BERENICE AVE', 1875),\n",
       " ('W ILLINOIS ST', 1872),\n",
       " ('S HERMITAGE AV', 1862),\n",
       " ('W ALBION AVE', 1853),\n",
       " ('N SAYRE AVE', 1849),\n",
       " ('W JUNEWAY TER', 1842),\n",
       " ('N MERRIMAC AVE', 1842),\n",
       " ('W 72ND PL', 1839),\n",
       " ('S EMERALD AV', 1838),\n",
       " ('W 75TH ST', 1823),\n",
       " ('N NEWLAND AVE', 1817),\n",
       " ('S MAYFIELD AVE', 1814),\n",
       " ('S AVENUE G', 1807),\n",
       " ('W 84TH ST', 1800),\n",
       " ('S VINCENNES AV', 1796),\n",
       " ('W PRYOR AVE', 1793),\n",
       " ('W FARRAGUT AVE', 1788),\n",
       " ('N WINTHROP AV', 1786),\n",
       " ('W SHERWIN AVE', 1783),\n",
       " ('N KEDZIE BLVD', 1781),\n",
       " ('E 100TH ST', 1780),\n",
       " ('W 22ND PL', 1773),\n",
       " ('S PRINCETON AV', 1772),\n",
       " ('W 117TH ST', 1764),\n",
       " ('S JEFFERY AVE', 1749),\n",
       " ('S GREEN BAY AVE', 1734),\n",
       " ('W AGATITE AVE', 1728),\n",
       " ('W 44TH ST', 1728),\n",
       " ('E 107TH ST', 1719),\n",
       " ('N ELSTON AV', 1701),\n",
       " ('E 79 ST', 1697),\n",
       " ('W JACKSON BV', 1696),\n",
       " ('W SCHILLER ST', 1692),\n",
       " ('N HAMLIN BLVD', 1692),\n",
       " ('W 60TH PL', 1682),\n",
       " ('W 25TH PL', 1681),\n",
       " ('N WILTON AVE', 1680),\n",
       " ('N LAWNDALE AV', 1674),\n",
       " ('N COLUMBUS DR', 1674),\n",
       " ('E SUPERIOR ST', 1668),\n",
       " ('W HUTCHINSON ST', 1660),\n",
       " ('W BEACH AVE', 1660),\n",
       " ('W 65TH PL', 1653),\n",
       " ('E ERIE ST', 1647),\n",
       " ('W 46TH ST', 1646),\n",
       " ('S PLYMOUTH CT', 1644),\n",
       " ('W WEED ST', 1642),\n",
       " ('S LA CROSSE AVE', 1641),\n",
       " ('N MULLIGAN AVE', 1641),\n",
       " ('E WALTON ST', 1638),\n",
       " ('W GIDDINGS ST', 1637),\n",
       " ('N RUTHERFORD AVE', 1635),\n",
       " ('S COLUMBUS DR', 1633),\n",
       " ('W CUYLER AVE', 1631),\n",
       " ('S HAMLIN BLVD', 1631),\n",
       " ('N DAMEN AV', 1627),\n",
       " ('N BEACON ST', 1626),\n",
       " ('W ARCHER AVE', 1618),\n",
       " ('E 134TH ST', 1618),\n",
       " ('W 104TH PL', 1605),\n",
       " ('E 59TH ST', 1603),\n",
       " ('E 100TH PL', 1602),\n",
       " ('E 56TH ST', 1594),\n",
       " ('S LANGLEY AV', 1590),\n",
       " ('E 72ND PL', 1584),\n",
       " ('S WOLCOTT AV', 1578),\n",
       " ('N ADA ST', 1578),\n",
       " ('S NORMAL AV', 1575),\n",
       " ('S DR MARTN LUTHR KING JR DR', 1560),\n",
       " ('E 57TH ST', 1560),\n",
       " ('E 65TH ST', 1556),\n",
       " ('E 40TH ST', 1556),\n",
       " ('W 71ST PL', 1541),\n",
       " ('E 49TH ST', 1540),\n",
       " ('W 108TH ST', 1539),\n",
       " ('E 48TH ST', 1539),\n",
       " ('N NATOMA AVE', 1536),\n",
       " ('S DREXEL AV', 1527),\n",
       " ('N CLYBOURN AV', 1525),\n",
       " ('E 41ST ST', 1524),\n",
       " ('W 24TH PL', 1522),\n",
       " ('N LINCOLN PARK WEST', 1520),\n",
       " ('W 113TH ST', 1515),\n",
       " ('S WINCHESTER AV', 1513),\n",
       " ('W JACKSON BL', 1512),\n",
       " ('S OAKLEY BLVD', 1512),\n",
       " ('E 130TH ST', 1512),\n",
       " ('S RHODES AV', 1510),\n",
       " ('N GREEN ST', 1507),\n",
       " ('N CALIFORNIA AV', 1507),\n",
       " ('S KENTON AVE', 1483),\n",
       " ('W HOMER ST', 1479),\n",
       " ('S VERNON AV', 1478),\n",
       " ('W FULTON MARKET', 1476),\n",
       " ('S LAKE SHORE DR', 1473),\n",
       " ('W 23RD PL', 1471),\n",
       " ('W 54TH PL', 1470),\n",
       " ('E 45TH ST', 1462),\n",
       " ('N STATE PKWY', 1452),\n",
       " ('S LOCKWOOD AVE', 1450),\n",
       " ('S ANTHONY AVE', 1444),\n",
       " ('S STEWART AV', 1443),\n",
       " ('S MENARD AVE', 1439),\n",
       " ('E WASHINGTON ST', 1438),\n",
       " ('S AUSTIN BLVD', 1433),\n",
       " ('W PENSACOLA AVE', 1430),\n",
       " ('E ADAMS ST', 1428),\n",
       " ('N ST CLAIR ST', 1427),\n",
       " ('W ALDINE AVE', 1424),\n",
       " ('N LARAMIE AV', 1416),\n",
       " ('W 91ST ST', 1401),\n",
       " ('W OGDEN AV', 1398),\n",
       " ('N OGDEN AVE', 1393),\n",
       " ('S BEVERLY AVE', 1390),\n",
       " ('W WILSON AV', 1386),\n",
       " ('S LAKE SHORE DR SB', 1383),\n",
       " ('E MADISON ST', 1381),\n",
       " ('W 32ND ST', 1372),\n",
       " ('W COLUMBUS AVE', 1371),\n",
       " ('W 66TH PL', 1371),\n",
       " ('W SHERIDAN RD', 1370),\n",
       " ('W LOYOLA AVE', 1369),\n",
       " ('E 71 ST', 1368),\n",
       " ('W MONTROSE AV', 1367),\n",
       " ('N KENMORE AV', 1366),\n",
       " ('E 89TH PL', 1365),\n",
       " ('W WINDSOR AVE', 1358),\n",
       " ('W 36TH ST', 1353),\n",
       " ('W 50TH PL', 1352),\n",
       " ('N SPRINGFIELD AV', 1352),\n",
       " ('E 58TH ST', 1351),\n",
       " ('N WACKER DR', 1350),\n",
       " ('S ST LAWRENCE AV', 1349),\n",
       " ('E 37TH ST', 1341),\n",
       " ('N LAKE SHORE DR NB', 1337),\n",
       " ('E 36TH ST', 1337),\n",
       " ('E 101ST ST', 1335),\n",
       " ('N ST LOUIS AV', 1332),\n",
       " ('S INGLESIDE AV', 1331),\n",
       " ('W 103RD PL', 1330),\n",
       " ('E OAK ST', 1330),\n",
       " ('S ARTESIAN AV', 1329),\n",
       " ('E BOWEN AVE', 1324),\n",
       " ('W ARDMORE AVE', 1317),\n",
       " ('N AVONDALE AVE', 1315),\n",
       " ('E 50TH PL', 1313),\n",
       " ('S MONITOR AVE', 1312),\n",
       " ('S LAPORTE AVE', 1312),\n",
       " ('N PINE AV', 1312),\n",
       " ('W 73RD PL', 1302),\n",
       " ('S MAPLEWOOD AV', 1302),\n",
       " ('S DESPLAINES ST', 1301),\n",
       " ('S CAMPBELL AV', 1297),\n",
       " ('N MONTICELLO AV', 1294),\n",
       " ('N HAZEL ST', 1294),\n",
       " ('N NEENAH AVE', 1291),\n",
       " ('N HAMLIN AV', 1291),\n",
       " ('W 83RD PL', 1290),\n",
       " ('E 67TH PL', 1284),\n",
       " ('W 39TH PL', 1279),\n",
       " ('W 42ND ST', 1277),\n",
       " ('E 88TH ST', 1277),\n",
       " ('S MINERVA AVE', 1274),\n",
       " ('E 85TH ST', 1274),\n",
       " ('S MARSHALL BLVD', 1267),\n",
       " ('W BRIAR PL', 1258),\n",
       " ('N KENTON AVE', 1256),\n",
       " ('S CHAMPLAIN AV', 1253),\n",
       " ('W 95 ST', 1247),\n",
       " ('W ST PAUL AVE', 1246),\n",
       " ('W 57TH PL', 1245),\n",
       " ('S SACRAMENTO DR', 1245),\n",
       " ('S PARNELL AV', 1244),\n",
       " ('W 37TH ST', 1241),\n",
       " ('S EXCHANGE AV', 1239),\n",
       " ('S PROSPECT AVE', 1236),\n",
       " ('W 59 ST', 1226),\n",
       " ('S LITUANICA AVE', 1226),\n",
       " ('N AVERS AV', 1221),\n",
       " ('E 32ND ST', 1221),\n",
       " ('S PERRY AV', 1219),\n",
       " ('N JANSSEN AVE', 1218),\n",
       " ('W 47 ST', 1215),\n",
       " ('S HOMAN AV', 1208),\n",
       " ('W 49TH PL', 1202),\n",
       " ('N MAY ST', 1200),\n",
       " ('S CHARLES ST', 1197),\n",
       " ('E OAKWOOD BLVD', 1197),\n",
       " ('W 84TH PL', 1196),\n",
       " ('E 87TH PL', 1195),\n",
       " ('E 69TH PL', 1194),\n",
       " ('W GREGORY ST', 1186),\n",
       " ('W GLENLAKE AVE', 1185),\n",
       " ('S ALBANY AV', 1181),\n",
       " ('E 44TH ST', 1180),\n",
       " ('S LAFAYETTE AV', 1179),\n",
       " ('N BISSELL ST', 1177),\n",
       " ('W 40TH ST', 1175),\n",
       " ('W 69TH PL', 1170),\n",
       " ('N MC CLURG CT', 1162),\n",
       " ('N JEFFERSON ST', 1162),\n",
       " ('E 113TH ST', 1159),\n",
       " ('W 37TH PL', 1158),\n",
       " ('N CENTRAL PARK AV', 1157),\n",
       " ('W CONGRESS PW', 1156),\n",
       " ('N CLINTON ST', 1155),\n",
       " ('E PEARSON ST', 1152),\n",
       " ('N CLEAVER ST', 1150),\n",
       " ('N KIMBALL AV', 1147),\n",
       " ('S FRANKLIN ST', 1144),\n",
       " ('W BUENA AVE', 1140),\n",
       " ('W WARNER AVE', 1139),\n",
       " ('W COLUMBIA AVE', 1137),\n",
       " ('E 54TH ST', 1135),\n",
       " ('E 42ND ST', 1134),\n",
       " ('N OCONTO AVE', 1132),\n",
       " ('W 28TH ST', 1123),\n",
       " ('S EBERHART AV', 1120),\n",
       " ('W 86TH ST', 1119),\n",
       " ('W BLACKHAWK ST', 1116),\n",
       " ('S NARRAGANSETT AVE', 1109),\n",
       " ('S ALLPORT ST', 1109),\n",
       " ('S WOODLAWN AV', 1105),\n",
       " ('E 119TH ST', 1105),\n",
       " ('W ROOT ST', 1104),\n",
       " ('E 121ST PL', 1104),\n",
       " ('W 62ND PL', 1097),\n",
       " ('N KOLIN AVE', 1096),\n",
       " ('W 26 ST', 1095),\n",
       " ('S WINSTON AVE', 1088),\n",
       " ('W 27TH ST', 1086),\n",
       " ('W 90TH ST', 1085),\n",
       " ('W HIGGINS RD', 1083),\n",
       " ('W RASCHER AVE', 1078),\n",
       " ('N KNOX AVE', 1078),\n",
       " ('E 75 ST', 1074),\n",
       " ('W 53RD PL', 1073),\n",
       " ('W 70TH PL', 1066),\n",
       " ('E NORTH WATER ST', 1066),\n",
       " ('W 89TH ST', 1062),\n",
       " ('E 73RD PL', 1062),\n",
       " ('S DOTY AVE W', 1059),\n",
       " ('E 96TH ST', 1059),\n",
       " ('E 97TH ST', 1056),\n",
       " ('S SPAULDING AV', 1051),\n",
       " ('S CHRISTIANA AV', 1050),\n",
       " ('N RECREATION DR', 1050),\n",
       " ('W 47TH PL', 1048),\n",
       " ('N CANAL ST', 1047),\n",
       " ('W 114TH ST', 1046),\n",
       " ('W 114TH PL', 1044),\n",
       " ('N ORIOLE AVE', 1042),\n",
       " ('E 86TH ST', 1039),\n",
       " ('S EVANS AV', 1038),\n",
       " ('W GOETHE ST', 1037),\n",
       " ('N DRAKE AV', 1036),\n",
       " ('E 47 ST', 1036),\n",
       " ('W 68TH PL', 1035),\n",
       " ('W WASHINGTON BV', 1033),\n",
       " ('S ST LOUIS AV', 1030),\n",
       " ('N LECLAIRE AV', 1028),\n",
       " ('W 88TH ST', 1027),\n",
       " ('E 105TH ST', 1026),\n",
       " ('W FITCH AVE', 1024),\n",
       " ...]"
      ]
     },
     "execution_count": 42,
     "metadata": {},
     "output_type": "execute_result"
    }
   ],
   "source": [
    "sorted(street.countByValue().items(), key=lambda k_v: k_v[::-1], reverse = True)"
   ]
  },
  {
   "cell_type": "markdown",
   "metadata": {},
   "source": [
    "# 7. Zip districts with street, find which districts are in S State Street"
   ]
  },
  {
   "cell_type": "code",
   "execution_count": 43,
   "metadata": {},
   "outputs": [
    {
     "data": {
      "text/plain": [
       "[('004', 'E 86TH PL'),\n",
       " ('022', 'S RACINE AVE'),\n",
       " ('008', 'W 79TH ST'),\n",
       " ('003', 'S EBERHART AVE'),\n",
       " ('001', 'W RANDOLPH ST')]"
      ]
     },
     "execution_count": 43,
     "metadata": {},
     "output_type": "execute_result"
    }
   ],
   "source": [
    "distAndStreet = districts.zip(street)\n",
    "distAndStreet.take(5)"
   ]
  },
  {
   "cell_type": "code",
   "execution_count": 44,
   "metadata": {},
   "outputs": [
    {
     "data": {
      "text/plain": [
       "defaultdict(int,\n",
       "            {('002', 'S STATE ST'): 14162,\n",
       "             ('001', 'S STATE ST'): 39979,\n",
       "             ('005', 'S STATE ST'): 12790,\n",
       "             ('006', 'S STATE ST'): 7596,\n",
       "             ('003', 'S STATE ST'): 5053,\n",
       "             ('000', 'S STATE ST'): 3451,\n",
       "             ('031', 'S STATE ST'): 12,\n",
       "             ('007', 'S STATE ST'): 444,\n",
       "             ('018', 'S STATE ST'): 10})"
      ]
     },
     "execution_count": 44,
     "metadata": {},
     "output_type": "execute_result"
    }
   ],
   "source": [
    "distAndStreet.filter(lambda x: \"S STATE ST\" in x).countByValue()"
   ]
  },
  {
   "cell_type": "markdown",
   "metadata": {},
   "source": [
    "Can see here: https://imgur.com/a/XYjeYnt where S State Street is and how many districts are covered by S State Street.\n",
    "About half the crimes that happen on S State Street are within the 1st district."
   ]
  },
  {
   "cell_type": "markdown",
   "metadata": {},
   "source": [
    "# Get month and zip it with type"
   ]
  },
  {
   "cell_type": "code",
   "execution_count": 45,
   "metadata": {},
   "outputs": [],
   "source": [
    "def getMonth(x):\n",
    "    month = \"\"\n",
    "    for element in x[:2]: \n",
    "        month+=element\n",
    "    return month\n",
    "    "
   ]
  },
  {
   "cell_type": "code",
   "execution_count": 46,
   "metadata": {},
   "outputs": [
    {
     "data": {
      "text/plain": [
       "['01', '10', '03', '09', '08']"
      ]
     },
     "execution_count": 46,
     "metadata": {},
     "output_type": "execute_result"
    }
   ],
   "source": [
    "month = date.map(lambda x : getMonth(x) )\n",
    "month.take(5)"
   ]
  },
  {
   "cell_type": "code",
   "execution_count": 47,
   "metadata": {},
   "outputs": [
    {
     "data": {
      "text/plain": [
       "[('01', 'DECEPTIVE PRACTICE'),\n",
       " ('10', 'CRIM SEXUAL ASSAULT'),\n",
       " ('03', 'BURGLARY'),\n",
       " ('09', 'THEFT'),\n",
       " ('08', 'CRIM SEXUAL ASSAULT')]"
      ]
     },
     "execution_count": 47,
     "metadata": {},
     "output_type": "execute_result"
    }
   ],
   "source": [
    "monthAndType = month.zip(primaryType)\n",
    "monthAndType.take(5)"
   ]
  },
  {
   "cell_type": "markdown",
   "metadata": {},
   "source": [
    "# Get month with theft, robbery, and burglary types only"
   ]
  },
  {
   "cell_type": "code",
   "execution_count": 48,
   "metadata": {},
   "outputs": [],
   "source": [
    "def typeSort(x):\n",
    "    if(('THEFT' in x) or ('ROBBERY' in x) or ('BURGLARY' in x)):\n",
    "        return x\n",
    "    else:\n",
    "        return ''\n",
    "    "
   ]
  },
  {
   "cell_type": "code",
   "execution_count": 49,
   "metadata": {},
   "outputs": [
    {
     "data": {
      "text/plain": [
       "['', '', ('03', 'BURGLARY'), ('09', 'THEFT'), '']"
      ]
     },
     "execution_count": 49,
     "metadata": {},
     "output_type": "execute_result"
    }
   ],
   "source": [
    "stealingTypesOnly = monthAndType.map(lambda x : typeSort(x))\n",
    "stealingTypesOnly.take(5)"
   ]
  },
  {
   "cell_type": "markdown",
   "metadata": {},
   "source": [
    "# Accounts of theft, robbery, and burglary in the Spring"
   ]
  },
  {
   "cell_type": "code",
   "execution_count": 50,
   "metadata": {},
   "outputs": [],
   "source": [
    "def springOnly(x):\n",
    "    if(('03' in x) or ('04' in x) or ('05' in x)):\n",
    "        return x\n",
    "    else:\n",
    "        return ''\n",
    "   \n",
    "   "
   ]
  },
  {
   "cell_type": "code",
   "execution_count": 51,
   "metadata": {},
   "outputs": [
    {
     "data": {
      "text/plain": [
       "['', '', ('03', 'BURGLARY'), '', '']"
      ]
     },
     "execution_count": 51,
     "metadata": {},
     "output_type": "execute_result"
    }
   ],
   "source": [
    "springStealing =  stealingTypesOnly.map(lambda x : springOnly(x))\n",
    "springStealing.take(5)"
   ]
  },
  {
   "cell_type": "code",
   "execution_count": 52,
   "metadata": {},
   "outputs": [
    {
     "data": {
      "text/plain": [
       "[('03', 'BURGLARY'),\n",
       " ('03', 'THEFT'),\n",
       " ('03', 'THEFT'),\n",
       " ('04', 'THEFT'),\n",
       " ('05', 'BURGLARY')]"
      ]
     },
     "execution_count": 52,
     "metadata": {},
     "output_type": "execute_result"
    }
   ],
   "source": [
    "springStealingClean = springStealing.filter(lambda x : springOnly(x) )\n",
    "springStealingClean.take(5)"
   ]
  },
  {
   "cell_type": "code",
   "execution_count": 53,
   "metadata": {},
   "outputs": [
    {
     "data": {
      "text/plain": [
       "[(('05', 'THEFT'), 126783),\n",
       " (('04', 'THEFT'), 116384),\n",
       " (('03', 'THEFT'), 113281),\n",
       " (('05', 'BURGLARY'), 33663),\n",
       " (('04', 'BURGLARY'), 29868),\n",
       " (('03', 'BURGLARY'), 28532),\n",
       " (('05', 'ROBBERY'), 21935),\n",
       " (('04', 'ROBBERY'), 19385),\n",
       " (('03', 'ROBBERY'), 18621)]"
      ]
     },
     "execution_count": 53,
     "metadata": {},
     "output_type": "execute_result"
    }
   ],
   "source": [
    "sorted(springStealingClean.countByValue().items(), key=lambda k_v: k_v[::-1], reverse = True)"
   ]
  },
  {
   "cell_type": "code",
   "execution_count": 54,
   "metadata": {},
   "outputs": [
    {
     "data": {
      "text/plain": [
       "508452"
      ]
     },
     "execution_count": 54,
     "metadata": {},
     "output_type": "execute_result"
    }
   ],
   "source": [
    "springStealingClean.count()"
   ]
  },
  {
   "cell_type": "markdown",
   "metadata": {},
   "source": [
    "# Accounts of theft, robbery, and burglary in the Summer"
   ]
  },
  {
   "cell_type": "code",
   "execution_count": 55,
   "metadata": {},
   "outputs": [],
   "source": [
    "def summerOnly(x):\n",
    "    if(('06' in x) or ('07' in x) or ('08' in x)):\n",
    "        return x\n",
    "    else:\n",
    "        return ''"
   ]
  },
  {
   "cell_type": "code",
   "execution_count": 56,
   "metadata": {},
   "outputs": [
    {
     "data": {
      "text/plain": [
       "['',\n",
       " '',\n",
       " '',\n",
       " '',\n",
       " '',\n",
       " '',\n",
       " '',\n",
       " '',\n",
       " ('07', 'THEFT'),\n",
       " '',\n",
       " '',\n",
       " '',\n",
       " '',\n",
       " ('07', 'THEFT'),\n",
       " '',\n",
       " '',\n",
       " '',\n",
       " '',\n",
       " '',\n",
       " ('07', 'THEFT'),\n",
       " '',\n",
       " '',\n",
       " '',\n",
       " '',\n",
       " '',\n",
       " '',\n",
       " ('07', 'THEFT'),\n",
       " '',\n",
       " '',\n",
       " '',\n",
       " '',\n",
       " '',\n",
       " '',\n",
       " '',\n",
       " '',\n",
       " '',\n",
       " '',\n",
       " '',\n",
       " '',\n",
       " '',\n",
       " '',\n",
       " '',\n",
       " '',\n",
       " '',\n",
       " '',\n",
       " '',\n",
       " '',\n",
       " '',\n",
       " '',\n",
       " '']"
      ]
     },
     "execution_count": 56,
     "metadata": {},
     "output_type": "execute_result"
    }
   ],
   "source": [
    "summerStealing =  stealingTypesOnly.map(lambda x : summerOnly(x))\n",
    "summerStealing.take(50)\n"
   ]
  },
  {
   "cell_type": "code",
   "execution_count": 57,
   "metadata": {},
   "outputs": [],
   "source": [
    "summerStealingClean =  summerStealing.filter(lambda x : summerOnly(x))"
   ]
  },
  {
   "cell_type": "code",
   "execution_count": 58,
   "metadata": {},
   "outputs": [
    {
     "data": {
      "text/plain": [
       "[(('08', 'THEFT'), 145873),\n",
       " (('07', 'THEFT'), 145672),\n",
       " (('06', 'THEFT'), 131751),\n",
       " (('08', 'BURGLARY'), 38256),\n",
       " (('07', 'BURGLARY'), 37280),\n",
       " (('06', 'BURGLARY'), 34016),\n",
       " (('08', 'ROBBERY'), 25173),\n",
       " (('07', 'ROBBERY'), 25031),\n",
       " (('06', 'ROBBERY'), 22498)]"
      ]
     },
     "execution_count": 58,
     "metadata": {},
     "output_type": "execute_result"
    }
   ],
   "source": [
    "sorted(summerStealingClean.countByValue().items(), key=lambda k_v: k_v[::-1], reverse = True)"
   ]
  },
  {
   "cell_type": "code",
   "execution_count": 59,
   "metadata": {},
   "outputs": [
    {
     "data": {
      "text/plain": [
       "605550"
      ]
     },
     "execution_count": 59,
     "metadata": {},
     "output_type": "execute_result"
    }
   ],
   "source": [
    "summerStealingClean.count()"
   ]
  },
  {
   "cell_type": "markdown",
   "metadata": {},
   "source": [
    "# Accounts of theft, robbery, and burglary in the Fall"
   ]
  },
  {
   "cell_type": "code",
   "execution_count": 60,
   "metadata": {},
   "outputs": [],
   "source": [
    "def fallOnly(x):\n",
    "    if(('09' in x) or ('10' in x) or ('11' in x)):\n",
    "        return x\n",
    "    else:\n",
    "        return ''"
   ]
  },
  {
   "cell_type": "code",
   "execution_count": 61,
   "metadata": {},
   "outputs": [
    {
     "data": {
      "text/plain": [
       "['', '', '', ('09', 'THEFT'), '']"
      ]
     },
     "execution_count": 61,
     "metadata": {},
     "output_type": "execute_result"
    }
   ],
   "source": [
    "fallStealing =  stealingTypesOnly.map(lambda x : fallOnly(x))\n",
    "fallStealing.take(5)"
   ]
  },
  {
   "cell_type": "code",
   "execution_count": 62,
   "metadata": {},
   "outputs": [],
   "source": [
    "fallStealingClean =  fallStealing.filter(lambda x : fallOnly(x))"
   ]
  },
  {
   "cell_type": "code",
   "execution_count": 63,
   "metadata": {},
   "outputs": [
    {
     "data": {
      "text/plain": [
       "[(('10', 'THEFT'), 133845),\n",
       " (('09', 'THEFT'), 132885),\n",
       " (('11', 'THEFT'), 119571),\n",
       " (('10', 'BURGLARY'), 37448),\n",
       " (('09', 'BURGLARY'), 36441),\n",
       " (('11', 'BURGLARY'), 34989),\n",
       " (('10', 'ROBBERY'), 25222),\n",
       " (('09', 'ROBBERY'), 23780),\n",
       " (('11', 'ROBBERY'), 23092)]"
      ]
     },
     "execution_count": 63,
     "metadata": {},
     "output_type": "execute_result"
    }
   ],
   "source": [
    "sorted(fallStealingClean.countByValue().items(), key=lambda k_v: k_v[::-1], reverse = True)"
   ]
  },
  {
   "cell_type": "code",
   "execution_count": 64,
   "metadata": {},
   "outputs": [
    {
     "data": {
      "text/plain": [
       "567273"
      ]
     },
     "execution_count": 64,
     "metadata": {},
     "output_type": "execute_result"
    }
   ],
   "source": [
    "fallStealingClean.count()"
   ]
  },
  {
   "cell_type": "markdown",
   "metadata": {},
   "source": [
    "# Accounts of theft, robbery, and burglary in the Winter"
   ]
  },
  {
   "cell_type": "code",
   "execution_count": 65,
   "metadata": {},
   "outputs": [],
   "source": [
    "def winterOnly(x):\n",
    "    if(('12' in x) or ('01' in x) or ('02' in x)):\n",
    "        return x\n",
    "    else:\n",
    "        return ''"
   ]
  },
  {
   "cell_type": "code",
   "execution_count": 66,
   "metadata": {},
   "outputs": [
    {
     "data": {
      "text/plain": [
       "['', '', '', '', '']"
      ]
     },
     "execution_count": 66,
     "metadata": {},
     "output_type": "execute_result"
    }
   ],
   "source": [
    "winterStealing =  stealingTypesOnly.map(lambda x : winterOnly(x))\n",
    "winterStealing.take(5)"
   ]
  },
  {
   "cell_type": "code",
   "execution_count": 67,
   "metadata": {},
   "outputs": [],
   "source": [
    "winterStealingClean =  winterStealing.filter(lambda x: winterOnly(x))\n"
   ]
  },
  {
   "cell_type": "code",
   "execution_count": 68,
   "metadata": {},
   "outputs": [
    {
     "data": {
      "text/plain": [
       "[(('01', 'THEFT'), 112761),\n",
       " (('12', 'THEFT'), 111916),\n",
       " (('02', 'THEFT'), 95303),\n",
       " (('12', 'BURGLARY'), 33111),\n",
       " (('01', 'BURGLARY'), 30831),\n",
       " (('02', 'BURGLARY'), 24172),\n",
       " (('12', 'ROBBERY'), 22890),\n",
       " (('01', 'ROBBERY'), 21272),\n",
       " (('02', 'ROBBERY'), 15542)]"
      ]
     },
     "execution_count": 68,
     "metadata": {},
     "output_type": "execute_result"
    }
   ],
   "source": [
    "sorted(winterStealingClean.countByValue().items(), key=lambda k_v: k_v[::-1], reverse = True)"
   ]
  },
  {
   "cell_type": "code",
   "execution_count": 69,
   "metadata": {},
   "outputs": [
    {
     "data": {
      "text/plain": [
       "467798"
      ]
     },
     "execution_count": 69,
     "metadata": {},
     "output_type": "execute_result"
    }
   ],
   "source": [
    "winterStealingClean.count()"
   ]
  },
  {
   "cell_type": "markdown",
   "metadata": {},
   "source": [
    "# 8. Theft, robbery, and burglary count by season"
   ]
  },
  {
   "cell_type": "code",
   "execution_count": 70,
   "metadata": {},
   "outputs": [
    {
     "data": {
      "text/plain": [
       "508452"
      ]
     },
     "execution_count": 70,
     "metadata": {},
     "output_type": "execute_result"
    }
   ],
   "source": [
    "springStealingClean.count()"
   ]
  },
  {
   "cell_type": "code",
   "execution_count": 71,
   "metadata": {},
   "outputs": [
    {
     "data": {
      "text/plain": [
       "605550"
      ]
     },
     "execution_count": 71,
     "metadata": {},
     "output_type": "execute_result"
    }
   ],
   "source": [
    "summerStealingClean.count()"
   ]
  },
  {
   "cell_type": "code",
   "execution_count": 72,
   "metadata": {},
   "outputs": [
    {
     "data": {
      "text/plain": [
       "567273"
      ]
     },
     "execution_count": 72,
     "metadata": {},
     "output_type": "execute_result"
    }
   ],
   "source": [
    "fallStealingClean.count()"
   ]
  },
  {
   "cell_type": "code",
   "execution_count": 73,
   "metadata": {},
   "outputs": [
    {
     "data": {
      "text/plain": [
       "467798"
      ]
     },
     "execution_count": 73,
     "metadata": {},
     "output_type": "execute_result"
    }
   ],
   "source": [
    "winterStealingClean.count()"
   ]
  },
  {
   "cell_type": "code",
   "execution_count": 74,
   "metadata": {},
   "outputs": [],
   "source": [
    "sc.stop()"
   ]
  }
 ],
 "metadata": {
  "kernelspec": {
   "display_name": "Python 3",
   "language": "python",
   "name": "python3"
  },
  "language_info": {
   "codemirror_mode": {
    "name": "ipython",
    "version": 3
   },
   "file_extension": ".py",
   "mimetype": "text/x-python",
   "name": "python",
   "nbconvert_exporter": "python",
   "pygments_lexer": "ipython3",
   "version": "3.7.4"
  }
 },
 "nbformat": 4,
 "nbformat_minor": 2
}
